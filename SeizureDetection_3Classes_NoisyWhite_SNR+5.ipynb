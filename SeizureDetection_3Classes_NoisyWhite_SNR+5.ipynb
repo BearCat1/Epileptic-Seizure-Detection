{
 "cells": [
  {
   "cell_type": "code",
   "execution_count": 1,
   "metadata": {},
   "outputs": [
    {
     "name": "stderr",
     "output_type": "stream",
     "text": [
      "Using TensorFlow backend.\n"
     ]
    }
   ],
   "source": [
    "# Import libraries and modules\n",
    "import numpy as np\n",
    "np.random.seed(123)  # for reproducibility\n",
    "import pandas as pd\n",
    "import seaborn as sns\n",
    "import matplotlib.pyplot as plt\n",
    "\n",
    "import keras\n",
    "from keras.models import Sequential\n",
    "from keras.layers import Dense\n",
    "from keras.layers import LSTM\n",
    "from keras.layers import Dropout\n",
    "from keras.layers import Flatten, TimeDistributed, GlobalMaxPooling1D, GlobalAveragePooling1D\n",
    "from keras.preprocessing import sequence\n",
    "from keras.utils import np_utils\n",
    "from keras import metrics\n",
    "from keras import backend\n",
    "\n",
    "%matplotlib inline"
   ]
  },
  {
   "cell_type": "code",
   "execution_count": 2,
   "metadata": {
    "collapsed": true
   },
   "outputs": [],
   "source": [
    "# Define the performance metrics of rmse, sensitivity, recall, specificity, and precision\n",
    "\n",
    "def rmse(y_true, y_pred):\n",
    "    return backend.sqrt(backend.mean(backend.square(y_pred - y_true), axis = -1))\n",
    "\n",
    "def sensitivity(y_true, y_pred):  \n",
    "     y_pred_pos = backend.round(backend.clip(y_pred, 0, 1))\n",
    "     y_pred_neg = 1 - y_pred_pos\n",
    "     y_pos = backend.round(backend.clip(y_true, 0, 1))\n",
    "     y_neg = 1 - y_pos\n",
    "     tp = backend.sum(y_pos * y_pred_pos)\n",
    "     tn = backend.sum(y_neg * y_pred_neg)\n",
    "     fp = backend.sum(y_neg * y_pred_pos)\n",
    "     fn = backend.sum(y_pos * y_pred_neg)\n",
    "     sensitivity = tp / (tp + fn)\n",
    "     return sensitivity\n",
    "\n",
    "# Recall is the same as the sensitivity\n",
    "def recall(y_true, y_pred):  \n",
    "     y_pred_pos = backend.round(backend.clip(y_pred, 0, 1))\n",
    "     y_pred_neg = 1 - y_pred_pos\n",
    "     y_pos = backend.round(backend.clip(y_true, 0, 1))\n",
    "     y_neg = 1 - y_pos\n",
    "     tp = backend.sum(y_pos * y_pred_pos)\n",
    "     tn = backend.sum(y_neg * y_pred_neg)\n",
    "     fp = backend.sum(y_neg * y_pred_pos)\n",
    "     fn = backend.sum(y_pos * y_pred_neg)\n",
    "     recall = tp / (tp + fn)\n",
    "     return recall\n",
    "\n",
    "def specificity(y_true, y_pred):  \n",
    "     y_pred_pos = backend.round(backend.clip(y_pred, 0, 1))\n",
    "     y_pred_neg = 1 - y_pred_pos\n",
    "     y_pos = backend.round(backend.clip(y_true, 0, 1))\n",
    "     y_neg = 1 - y_pos\n",
    "     tp = backend.sum(y_pos * y_pred_pos)\n",
    "     tn = backend.sum(y_neg * y_pred_neg)\n",
    "     fp = backend.sum(y_neg * y_pred_pos)\n",
    "     fn = backend.sum(y_pos * y_pred_neg)\n",
    "     specificity = tn / (tn + fp)\n",
    "     return specificity\n",
    "\n",
    "\n",
    "def precision(y_true, y_pred):  \n",
    "     y_pred_pos = backend.round(backend.clip(y_pred, 0, 1))\n",
    "     y_pred_neg = 1 - y_pred_pos\n",
    "     y_pos = backend.round(backend.clip(y_true, 0, 1))\n",
    "     y_neg = 1 - y_pos\n",
    "     tp = backend.sum(y_pos * y_pred_pos)\n",
    "     tn = backend.sum(y_neg * y_pred_neg)\n",
    "     fp = backend.sum(y_neg * y_pred_pos)\n",
    "     fn = backend.sum(y_pos * y_pred_neg)\n",
    "     precision = tp / (tp + fp)\n",
    "     return precision"
   ]
  },
  {
   "cell_type": "code",
   "execution_count": 3,
   "metadata": {
    "collapsed": true
   },
   "outputs": [],
   "source": [
    "#import data \n",
    "# data=pd.read_csv('/home/ramyh/Documents/ClassDeepLearning/EEGdata.csv', names=['f1':'f2049'])\n",
    "data=pd.read_csv('/home/ramyh/Documents/ClassDeepLearning/EEGData_3Classes_NoisyWhite_SNR+5.csv') # dataset including 1000 samples from each class"
   ]
  },
  {
   "cell_type": "code",
   "execution_count": 4,
   "metadata": {},
   "outputs": [
    {
     "data": {
      "text/plain": [
       "1    1000\n",
       "2    1000\n",
       "0    1000\n",
       "Name: f4097, dtype: int64"
      ]
     },
     "execution_count": 4,
     "metadata": {},
     "output_type": "execute_result"
    }
   ],
   "source": [
    "data[\"f4097\"].value_counts()"
   ]
  },
  {
   "cell_type": "code",
   "execution_count": 5,
   "metadata": {
    "collapsed": true
   },
   "outputs": [],
   "source": [
    "# shuffle the data\n",
    "data=data.iloc[np.random.permutation(len(data))]"
   ]
  },
  {
   "cell_type": "code",
   "execution_count": 6,
   "metadata": {
    "collapsed": true
   },
   "outputs": [],
   "source": [
    "# reset the data index\n",
    "data=data.reset_index(drop=True)"
   ]
  },
  {
   "cell_type": "code",
   "execution_count": 7,
   "metadata": {},
   "outputs": [
    {
     "data": {
      "text/plain": [
       "2"
      ]
     },
     "execution_count": 7,
     "metadata": {},
     "output_type": "execute_result"
    }
   ],
   "source": [
    "# Time Steps of LSTM\n",
    "data_length = 4096\n",
    "timesteps = 2048\n",
    "data_dim = data_length//timesteps\n",
    "data_dim"
   ]
  },
  {
   "cell_type": "code",
   "execution_count": 8,
   "metadata": {
    "collapsed": true
   },
   "outputs": [],
   "source": [
    "# training data\n",
    "X_train=data.loc[0:2399,data.columns != 'f4097']\n",
    "# training data.reshape\n",
    "# X_train=X_train.values.reshape([X_train.shape[0], -1, 1])\n",
    "# X_train=X_train.values.reshape([X_train.shape[0], 64, 64])\n",
    "X_train=X_train.values.reshape([X_train.shape[0], timesteps, data_dim])\n",
    "\n",
    "temp=data['f4097']\n",
    "y_train=temp[0:2400]\n",
    "# map data into arrays\n",
    "y_train=np_utils.to_categorical(y_train, num_classes=3)\n",
    "\n",
    "# test data\n",
    "X_test=data.loc[2400:2999,data.columns != 'f4097']\n",
    "\n",
    "# test data.reshape\n",
    "# X_test = X_test.values.reshape([X_test.shape[0], -1, 1])\n",
    "# X_test = X_test.values.reshape([X_test.shape[0], 64, 64])\n",
    "X_test = X_test.values.reshape([X_test.shape[0], timesteps, data_dim])\n",
    "\n",
    "y_test=temp[2400:3000]\n",
    "# map data into arrays\n",
    "y_test=np_utils.to_categorical(y_test, num_classes=3)\n",
    "\n",
    "# https://elitedatascience.com/keras-tutorial-deep-learning-in-python\n",
    "# https://faroit.github.io/keras-docs/0.3.3/examples/\n",
    "# https://machinelearningmastery.com/use-dropout-lstm-networks-time-series-forecasting/"
   ]
  },
  {
   "cell_type": "code",
   "execution_count": 9,
   "metadata": {},
   "outputs": [
    {
     "data": {
      "text/plain": [
       "(600, 2048, 2)"
      ]
     },
     "execution_count": 9,
     "metadata": {},
     "output_type": "execute_result"
    }
   ],
   "source": [
    "X_test.shape"
   ]
  },
  {
   "cell_type": "code",
   "execution_count": 10,
   "metadata": {},
   "outputs": [
    {
     "name": "stdout",
     "output_type": "stream",
     "text": [
      "_________________________________________________________________\n",
      "Layer (type)                 Output Shape              Param #   \n",
      "=================================================================\n",
      "lstm_1 (LSTM)                (None, 2048, 100)         41200     \n",
      "_________________________________________________________________\n",
      "time_distributed_1 (TimeDist (None, 2048, 50)          5050      \n",
      "_________________________________________________________________\n",
      "global_average_pooling1d_1 ( (None, 50)                0         \n",
      "_________________________________________________________________\n",
      "dense_2 (Dense)              (None, 3)                 153       \n",
      "=================================================================\n",
      "Total params: 46,403\n",
      "Trainable params: 46,403\n",
      "Non-trainable params: 0\n",
      "_________________________________________________________________\n",
      "None\n",
      "Train on 2400 samples, validate on 600 samples\n",
      "Epoch 1/40\n",
      "2400/2400 [==============================] - 423s - loss: 0.7192 - sensitivity: 0.4254 - specificity: 0.9452 - acc: 0.6754 - val_loss: 0.4595 - val_sensitivity: 0.7883 - val_specificity: 0.9392 - val_acc: 0.8383\n",
      "Epoch 2/40\n",
      "2400/2400 [==============================] - 449s - loss: 0.4085 - sensitivity: 0.8392 - specificity: 0.9348 - acc: 0.8512 - val_loss: 0.3390 - val_sensitivity: 0.8850 - val_specificity: 0.9483 - val_acc: 0.8917\n",
      "Epoch 3/40\n",
      "2400/2400 [==============================] - 450s - loss: 0.2644 - sensitivity: 0.9017 - specificity: 0.9544 - acc: 0.9058 - val_loss: 0.2604 - val_sensitivity: 0.8850 - val_specificity: 0.9425 - val_acc: 0.8850\n",
      "Epoch 4/40\n",
      "2400/2400 [==============================] - 445s - loss: 0.1627 - sensitivity: 0.9483 - specificity: 0.9752 - acc: 0.9500 - val_loss: 0.1109 - val_sensitivity: 0.9667 - val_specificity: 0.9833 - val_acc: 0.9667\n",
      "Epoch 5/40\n",
      "2400/2400 [==============================] - 448s - loss: 0.1272 - sensitivity: 0.9567 - specificity: 0.9785 - acc: 0.9571 - val_loss: 0.0874 - val_sensitivity: 0.9750 - val_specificity: 0.9875 - val_acc: 0.9750\n",
      "Epoch 6/40\n",
      "2400/2400 [==============================] - 444s - loss: 0.0906 - sensitivity: 0.9704 - specificity: 0.9852 - acc: 0.9704 - val_loss: 0.0781 - val_sensitivity: 0.9767 - val_specificity: 0.9883 - val_acc: 0.9767\n",
      "Epoch 7/40\n",
      "2400/2400 [==============================] - 448s - loss: 0.0922 - sensitivity: 0.9679 - specificity: 0.9840 - acc: 0.9679 - val_loss: 0.0771 - val_sensitivity: 0.9683 - val_specificity: 0.9842 - val_acc: 0.9683\n",
      "Epoch 8/40\n",
      "2400/2400 [==============================] - 446s - loss: 0.0773 - sensitivity: 0.9700 - specificity: 0.9850 - acc: 0.9700 - val_loss: 0.0739 - val_sensitivity: 0.9700 - val_specificity: 0.9850 - val_acc: 0.9700\n",
      "Epoch 9/40\n",
      "2400/2400 [==============================] - 444s - loss: 0.1235 - sensitivity: 0.9663 - specificity: 0.9831 - acc: 0.9663 - val_loss: 0.0924 - val_sensitivity: 0.9733 - val_specificity: 0.9867 - val_acc: 0.9733\n",
      "Epoch 10/40\n",
      "2400/2400 [==============================] - 443s - loss: 0.1042 - sensitivity: 0.9596 - specificity: 0.9800 - acc: 0.9600 - val_loss: 0.0720 - val_sensitivity: 0.9767 - val_specificity: 0.9883 - val_acc: 0.9767\n",
      "Epoch 11/40\n",
      "2400/2400 [==============================] - 445s - loss: 0.0698 - sensitivity: 0.9800 - specificity: 0.9902 - acc: 0.9804 - val_loss: 0.0727 - val_sensitivity: 0.9683 - val_specificity: 0.9842 - val_acc: 0.9683\n",
      "Epoch 12/40\n",
      "2400/2400 [==============================] - 442s - loss: 0.0780 - sensitivity: 0.9688 - specificity: 0.9846 - acc: 0.9688 - val_loss: 0.0656 - val_sensitivity: 0.9750 - val_specificity: 0.9875 - val_acc: 0.9750\n",
      "Epoch 13/40\n",
      "2400/2400 [==============================] - 441s - loss: 0.0695 - sensitivity: 0.9746 - specificity: 0.9873 - acc: 0.9746 - val_loss: 0.0602 - val_sensitivity: 0.9783 - val_specificity: 0.9892 - val_acc: 0.9783\n",
      "Epoch 14/40\n",
      "2400/2400 [==============================] - 444s - loss: 0.0637 - sensitivity: 0.9762 - specificity: 0.9881 - acc: 0.9762 - val_loss: 0.0688 - val_sensitivity: 0.9700 - val_specificity: 0.9850 - val_acc: 0.9700\n",
      "Epoch 15/40\n",
      "2400/2400 [==============================] - 442s - loss: 0.0720 - sensitivity: 0.9746 - specificity: 0.9873 - acc: 0.9746 - val_loss: 0.0668 - val_sensitivity: 0.9783 - val_specificity: 0.9892 - val_acc: 0.9783\n",
      "Epoch 16/40\n",
      "2400/2400 [==============================] - 439s - loss: 0.0587 - sensitivity: 0.9783 - specificity: 0.9892 - acc: 0.9783 - val_loss: 0.0528 - val_sensitivity: 0.9800 - val_specificity: 0.9900 - val_acc: 0.9800\n",
      "Epoch 17/40\n",
      "2400/2400 [==============================] - 439s - loss: 0.0520 - sensitivity: 0.9817 - specificity: 0.9908 - acc: 0.9817 - val_loss: 0.0652 - val_sensitivity: 0.9783 - val_specificity: 0.9892 - val_acc: 0.9783\n",
      "Epoch 18/40\n",
      "2400/2400 [==============================] - 440s - loss: 0.0546 - sensitivity: 0.9808 - specificity: 0.9906 - acc: 0.9813 - val_loss: 0.1237 - val_sensitivity: 0.9600 - val_specificity: 0.9800 - val_acc: 0.9600\n",
      "Epoch 19/40\n",
      "2400/2400 [==============================] - 454s - loss: 0.1011 - sensitivity: 0.9683 - specificity: 0.9842 - acc: 0.9683 - val_loss: 0.0614 - val_sensitivity: 0.9817 - val_specificity: 0.9908 - val_acc: 0.9817\n",
      "Epoch 20/40\n",
      "2400/2400 [==============================] - 452s - loss: 0.0603 - sensitivity: 0.9792 - specificity: 0.9896 - acc: 0.9792 - val_loss: 0.0723 - val_sensitivity: 0.9717 - val_specificity: 0.9867 - val_acc: 0.9717\n",
      "Epoch 21/40\n",
      "2400/2400 [==============================] - 446s - loss: 0.0460 - sensitivity: 0.9842 - specificity: 0.9921 - acc: 0.9842 - val_loss: 0.0437 - val_sensitivity: 0.9850 - val_specificity: 0.9925 - val_acc: 0.9850\n",
      "Epoch 22/40\n",
      "2400/2400 [==============================] - 442s - loss: 0.0444 - sensitivity: 0.9829 - specificity: 0.9915 - acc: 0.9829 - val_loss: 0.0652 - val_sensitivity: 0.9767 - val_specificity: 0.9883 - val_acc: 0.9767\n",
      "Epoch 23/40\n",
      "2400/2400 [==============================] - 448s - loss: 0.0431 - sensitivity: 0.9846 - specificity: 0.9923 - acc: 0.9846 - val_loss: 0.0602 - val_sensitivity: 0.9783 - val_specificity: 0.9892 - val_acc: 0.9783\n",
      "Epoch 24/40\n",
      "2400/2400 [==============================] - 443s - loss: 0.1959 - sensitivity: 0.9358 - specificity: 0.9683 - acc: 0.9363 - val_loss: 0.0872 - val_sensitivity: 0.9750 - val_specificity: 0.9883 - val_acc: 0.9750\n",
      "Epoch 25/40\n",
      "2400/2400 [==============================] - 444s - loss: 0.0770 - sensitivity: 0.9746 - specificity: 0.9873 - acc: 0.9746 - val_loss: 0.0698 - val_sensitivity: 0.9767 - val_specificity: 0.9883 - val_acc: 0.9767\n",
      "Epoch 26/40\n",
      "2400/2400 [==============================] - 444s - loss: 0.0588 - sensitivity: 0.9808 - specificity: 0.9904 - acc: 0.9808 - val_loss: 0.0747 - val_sensitivity: 0.9717 - val_specificity: 0.9858 - val_acc: 0.9717\n",
      "Epoch 27/40\n",
      "2400/2400 [==============================] - 441s - loss: 0.0513 - sensitivity: 0.9829 - specificity: 0.9915 - acc: 0.9829 - val_loss: 0.0532 - val_sensitivity: 0.9850 - val_specificity: 0.9925 - val_acc: 0.9850\n",
      "Epoch 28/40\n",
      "2400/2400 [==============================] - 440s - loss: 0.0427 - sensitivity: 0.9850 - specificity: 0.9925 - acc: 0.9850 - val_loss: 0.0515 - val_sensitivity: 0.9800 - val_specificity: 0.9900 - val_acc: 0.9800\n",
      "Epoch 29/40\n",
      "2400/2400 [==============================] - 445s - loss: 0.0396 - sensitivity: 0.9829 - specificity: 0.9915 - acc: 0.9829 - val_loss: 0.0505 - val_sensitivity: 0.9800 - val_specificity: 0.9900 - val_acc: 0.9800\n",
      "Epoch 30/40\n",
      "2400/2400 [==============================] - 446s - loss: 0.0445 - sensitivity: 0.9850 - specificity: 0.9925 - acc: 0.9850 - val_loss: 0.0541 - val_sensitivity: 0.9733 - val_specificity: 0.9867 - val_acc: 0.9733\n",
      "Epoch 31/40\n",
      "2400/2400 [==============================] - 445s - loss: 0.0807 - sensitivity: 0.9721 - specificity: 0.9860 - acc: 0.9721 - val_loss: 0.0941 - val_sensitivity: 0.9733 - val_specificity: 0.9867 - val_acc: 0.9733\n",
      "Epoch 32/40\n",
      "2400/2400 [==============================] - 453s - loss: 0.0677 - sensitivity: 0.9750 - specificity: 0.9875 - acc: 0.9750 - val_loss: 0.0493 - val_sensitivity: 0.9817 - val_specificity: 0.9908 - val_acc: 0.9817\n",
      "Epoch 33/40\n"
     ]
    },
    {
     "name": "stdout",
     "output_type": "stream",
     "text": [
      "2400/2400 [==============================] - 452s - loss: 0.0387 - sensitivity: 0.9850 - specificity: 0.9925 - acc: 0.9850 - val_loss: 0.0409 - val_sensitivity: 0.9833 - val_specificity: 0.9917 - val_acc: 0.9833\n",
      "Epoch 34/40\n",
      "2400/2400 [==============================] - 456s - loss: 0.0333 - sensitivity: 0.9879 - specificity: 0.9940 - acc: 0.9879 - val_loss: 0.0399 - val_sensitivity: 0.9833 - val_specificity: 0.9917 - val_acc: 0.9833\n",
      "Epoch 35/40\n",
      "2400/2400 [==============================] - 445s - loss: 0.0270 - sensitivity: 0.9917 - specificity: 0.9958 - acc: 0.9917 - val_loss: 0.0449 - val_sensitivity: 0.9817 - val_specificity: 0.9908 - val_acc: 0.9817\n",
      "Epoch 36/40\n",
      "2400/2400 [==============================] - 441s - loss: 0.0288 - sensitivity: 0.9904 - specificity: 0.9952 - acc: 0.9904 - val_loss: 0.0527 - val_sensitivity: 0.9750 - val_specificity: 0.9875 - val_acc: 0.9750\n",
      "Epoch 37/40\n",
      "2400/2400 [==============================] - 444s - loss: 0.0416 - sensitivity: 0.9850 - specificity: 0.9925 - acc: 0.9850 - val_loss: 0.0519 - val_sensitivity: 0.9817 - val_specificity: 0.9908 - val_acc: 0.9817\n",
      "Epoch 38/40\n",
      "2400/2400 [==============================] - 438s - loss: 0.0274 - sensitivity: 0.9908 - specificity: 0.9954 - acc: 0.9908 - val_loss: 0.0351 - val_sensitivity: 0.9833 - val_specificity: 0.9917 - val_acc: 0.9833\n",
      "Epoch 39/40\n",
      "2400/2400 [==============================] - 443s - loss: 0.0220 - sensitivity: 0.9929 - specificity: 0.9965 - acc: 0.9929 - val_loss: 0.0439 - val_sensitivity: 0.9833 - val_specificity: 0.9917 - val_acc: 0.9833\n",
      "Epoch 40/40\n",
      "2400/2400 [==============================] - 434s - loss: 0.0215 - sensitivity: 0.9929 - specificity: 0.9965 - acc: 0.9929 - val_loss: 0.0349 - val_sensitivity: 0.9883 - val_specificity: 0.9942 - val_acc: 0.9883\n"
     ]
    }
   ],
   "source": [
    "# create the model\n",
    "model = Sequential()\n",
    "# model.add(LSTM(100, input_shape= (4096, 1)))\n",
    "# model.add(LSTM(100, input_shape= (64, 64)))\n",
    "# model.add(Dropout(0.1, input_shape= (timesteps, data_dim)))\n",
    "# model.add(LSTM(100, return_sequences = True))\n",
    "\n",
    "model.add(LSTM(100, input_shape= (timesteps, data_dim), return_sequences = True))\n",
    "# model.add(Dropout(0.1))\n",
    "model.add(TimeDistributed(Dense(50)))\n",
    "# model.add(GlobalMaxPooling1D())\n",
    "model.add(GlobalAveragePooling1D())\n",
    "# model.add(Flatten())\n",
    "model.add(Dense(3, activation='softmax'))\n",
    "model.compile(loss='categorical_crossentropy', optimizer='adam', metrics=[sensitivity, specificity, 'accuracy'])\n",
    "print(model.summary())\n",
    "history = model.fit(X_train, y_train, validation_data=(X_test, y_test), batch_size=64, epochs=40)"
   ]
  },
  {
   "cell_type": "code",
   "execution_count": 11,
   "metadata": {},
   "outputs": [
    {
     "data": {
      "image/png": "[encoded data removed]",
      "text/plain": [
       "<matplotlib.figure.Figure at 0x7f24c460a630>"
      ]
     },
     "metadata": {},
     "output_type": "display_data"
    }
   ],
   "source": [
    "# Plot the sensitivity along with epochs\n",
    "plt.plot(history.history['sensitivity'], 'g--')\n",
    "plt.title('Model Sensitivity')\n",
    "plt.ylabel('Sensitivity')\n",
    "plt.xlabel('Epoch #')\n",
    "plt.show()"
   ]
  },
  {
   "cell_type": "code",
   "execution_count": 12,
   "metadata": {},
   "outputs": [
    {
     "data": {
      "image/png": "[encoded data removed]",
      "text/plain": [
       "<matplotlib.figure.Figure at 0x7f24c460a4a8>"
      ]
     },
     "metadata": {},
     "output_type": "display_data"
    }
   ],
   "source": [
    "# Plot the specificity along with epochs\n",
    "plt.plot(history.history['specificity'], 'b--')\n",
    "plt.title('Model Specificity')\n",
    "plt.ylabel('Specificity')\n",
    "plt.xlabel('Epoch #')\n",
    "plt.show()"
   ]
  },
  {
   "cell_type": "code",
   "execution_count": 13,
   "metadata": {},
   "outputs": [
    {
     "data": {
      "image/png": "[encoded data removed]",
      "text/plain": [
       "<matplotlib.figure.Figure at 0x7f24bc50e208>"
      ]
     },
     "metadata": {},
     "output_type": "display_data"
    }
   ],
   "source": [
    "# Plot the classification accuracy along with epochs\n",
    "plt.plot(history.history['acc'], 'r--')\n",
    "plt.title('Model Accuracy')\n",
    "plt.ylabel('Accuracy')\n",
    "plt.xlabel('Epoch #')\n",
    "plt.show()"
   ]
  },
  {
   "cell_type": "code",
   "execution_count": 14,
   "metadata": {},
   "outputs": [
    {
     "name": "stdout",
     "output_type": "stream",
     "text": [
      "Sensitivity = 98.83%\n",
      "Specificity = 99.42%\n",
      "Classification Accuracy = 98.83%\n"
     ]
    }
   ],
   "source": [
    "# evaluate the classification accuracy\n",
    "scores = model.evaluate(X_test, y_test, verbose=0)\n",
    "print(\"Sensitivity = %.2f%%\" % (scores[1]*100))\n",
    "print(\"Specificity = %.2f%%\" % (scores[2]*100))\n",
    "print(\"Classification Accuracy = %.2f%%\" % (scores[3]*100))"
   ]
  },
  {
   "cell_type": "code",
   "execution_count": null,
   "metadata": {
    "collapsed": true
   },
   "outputs": [],
   "source": []
  }
 ],
 "metadata": {
  "kernelspec": {
   "display_name": "Python 3",
   "language": "python",
   "name": "python3"
  },
  "language_info": {
   "codemirror_mode": {
    "name": "ipython",
    "version": 3
   },
   "file_extension": ".py",
   "mimetype": "text/x-python",
   "name": "python",
   "nbconvert_exporter": "python",
   "pygments_lexer": "ipython3",
   "version": "3.6.1"
  }
 },
 "nbformat": 4,
 "nbformat_minor": 2
}

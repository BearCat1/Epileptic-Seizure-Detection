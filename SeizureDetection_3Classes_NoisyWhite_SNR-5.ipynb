{
 "cells": [
  {
   "cell_type": "code",
   "execution_count": 1,
   "metadata": {},
   "outputs": [
    {
     "name": "stderr",
     "output_type": "stream",
     "text": [
      "Using TensorFlow backend.\n"
     ]
    }
   ],
   "source": [
    "# Import libraries and modules\n",
    "import numpy as np\n",
    "np.random.seed(123)  # for reproducibility\n",
    "import pandas as pd\n",
    "import seaborn as sns\n",
    "import matplotlib.pyplot as plt\n",
    "\n",
    "import keras\n",
    "from keras.models import Sequential\n",
    "from keras.layers import Dense\n",
    "from keras.layers import LSTM\n",
    "from keras.layers import Dropout\n",
    "from keras.layers import Flatten, TimeDistributed, GlobalMaxPooling1D, GlobalAveragePooling1D\n",
    "from keras.preprocessing import sequence\n",
    "from keras.utils import np_utils\n",
    "from keras import metrics\n",
    "from keras import backend\n",
    "\n",
    "%matplotlib inline"
   ]
  },
  {
   "cell_type": "code",
   "execution_count": 2,
   "metadata": {
    "collapsed": true
   },
   "outputs": [],
   "source": [
    "# Define the performance metrics of rmse, sensitivity, recall, specificity, and precision\n",
    "\n",
    "def rmse(y_true, y_pred):\n",
    "    return backend.sqrt(backend.mean(backend.square(y_pred - y_true), axis = -1))\n",
    "\n",
    "def sensitivity(y_true, y_pred):  \n",
    "     y_pred_pos = backend.round(backend.clip(y_pred, 0, 1))\n",
    "     y_pred_neg = 1 - y_pred_pos\n",
    "     y_pos = backend.round(backend.clip(y_true, 0, 1))\n",
    "     y_neg = 1 - y_pos\n",
    "     tp = backend.sum(y_pos * y_pred_pos)\n",
    "     tn = backend.sum(y_neg * y_pred_neg)\n",
    "     fp = backend.sum(y_neg * y_pred_pos)\n",
    "     fn = backend.sum(y_pos * y_pred_neg)\n",
    "     sensitivity = tp / (tp + fn)\n",
    "     return sensitivity\n",
    "\n",
    "# Recall is the same as the sensitivity\n",
    "def recall(y_true, y_pred):  \n",
    "     y_pred_pos = backend.round(backend.clip(y_pred, 0, 1))\n",
    "     y_pred_neg = 1 - y_pred_pos\n",
    "     y_pos = backend.round(backend.clip(y_true, 0, 1))\n",
    "     y_neg = 1 - y_pos\n",
    "     tp = backend.sum(y_pos * y_pred_pos)\n",
    "     tn = backend.sum(y_neg * y_pred_neg)\n",
    "     fp = backend.sum(y_neg * y_pred_pos)\n",
    "     fn = backend.sum(y_pos * y_pred_neg)\n",
    "     recall = tp / (tp + fn)\n",
    "     return recall\n",
    "\n",
    "def specificity(y_true, y_pred):  \n",
    "     y_pred_pos = backend.round(backend.clip(y_pred, 0, 1))\n",
    "     y_pred_neg = 1 - y_pred_pos\n",
    "     y_pos = backend.round(backend.clip(y_true, 0, 1))\n",
    "     y_neg = 1 - y_pos\n",
    "     tp = backend.sum(y_pos * y_pred_pos)\n",
    "     tn = backend.sum(y_neg * y_pred_neg)\n",
    "     fp = backend.sum(y_neg * y_pred_pos)\n",
    "     fn = backend.sum(y_pos * y_pred_neg)\n",
    "     specificity = tn / (tn + fp)\n",
    "     return specificity\n",
    "\n",
    "\n",
    "def precision(y_true, y_pred):  \n",
    "     y_pred_pos = backend.round(backend.clip(y_pred, 0, 1))\n",
    "     y_pred_neg = 1 - y_pred_pos\n",
    "     y_pos = backend.round(backend.clip(y_true, 0, 1))\n",
    "     y_neg = 1 - y_pos\n",
    "     tp = backend.sum(y_pos * y_pred_pos)\n",
    "     tn = backend.sum(y_neg * y_pred_neg)\n",
    "     fp = backend.sum(y_neg * y_pred_pos)\n",
    "     fn = backend.sum(y_pos * y_pred_neg)\n",
    "     precision = tp / (tp + fp)\n",
    "     return precision"
   ]
  },
  {
   "cell_type": "code",
   "execution_count": 3,
   "metadata": {
    "collapsed": true
   },
   "outputs": [],
   "source": [
    "#import data \n",
    "# data=pd.read_csv('/home/ramyh/Documents/ClassDeepLearning/EEGdata.csv', names=['f1':'f2049'])\n",
    "data=pd.read_csv('/home/ramyh/Documents/ClassDeepLearning/EEGData_3Classes_NoisyWhite_SNR-5.csv') # dataset including 1000 samples from each class"
   ]
  },
  {
   "cell_type": "code",
   "execution_count": 4,
   "metadata": {},
   "outputs": [
    {
     "data": {
      "text/plain": [
       "1    1000\n",
       "2    1000\n",
       "0    1000\n",
       "Name: f4097, dtype: int64"
      ]
     },
     "execution_count": 4,
     "metadata": {},
     "output_type": "execute_result"
    }
   ],
   "source": [
    "data[\"f4097\"].value_counts()"
   ]
  },
  {
   "cell_type": "code",
   "execution_count": 5,
   "metadata": {
    "collapsed": true
   },
   "outputs": [],
   "source": [
    "# shuffle the data\n",
    "data=data.iloc[np.random.permutation(len(data))]"
   ]
  },
  {
   "cell_type": "code",
   "execution_count": 6,
   "metadata": {
    "collapsed": true
   },
   "outputs": [],
   "source": [
    "# reset the data index\n",
    "data=data.reset_index(drop=True)"
   ]
  },
  {
   "cell_type": "code",
   "execution_count": 7,
   "metadata": {},
   "outputs": [
    {
     "data": {
      "text/plain": [
       "2"
      ]
     },
     "execution_count": 7,
     "metadata": {},
     "output_type": "execute_result"
    }
   ],
   "source": [
    "# Time Steps of LSTM\n",
    "data_length = 4096\n",
    "timesteps = 2048\n",
    "data_dim = data_length//timesteps\n",
    "data_dim"
   ]
  },
  {
   "cell_type": "code",
   "execution_count": 8,
   "metadata": {
    "collapsed": true
   },
   "outputs": [],
   "source": [
    "# training data\n",
    "X_train=data.loc[0:2399,data.columns != 'f4097']\n",
    "# training data.reshape\n",
    "# X_train=X_train.values.reshape([X_train.shape[0], -1, 1])\n",
    "# X_train=X_train.values.reshape([X_train.shape[0], 64, 64])\n",
    "X_train=X_train.values.reshape([X_train.shape[0], timesteps, data_dim])\n",
    "\n",
    "temp=data['f4097']\n",
    "y_train=temp[0:2400]\n",
    "# map data into arrays\n",
    "y_train=np_utils.to_categorical(y_train, num_classes=3)\n",
    "\n",
    "# test data\n",
    "X_test=data.loc[2400:2999,data.columns != 'f4097']\n",
    "\n",
    "# test data.reshape\n",
    "# X_test = X_test.values.reshape([X_test.shape[0], -1, 1])\n",
    "# X_test = X_test.values.reshape([X_test.shape[0], 64, 64])\n",
    "X_test = X_test.values.reshape([X_test.shape[0], timesteps, data_dim])\n",
    "\n",
    "y_test=temp[2400:3000]\n",
    "# map data into arrays\n",
    "y_test=np_utils.to_categorical(y_test, num_classes=3)\n",
    "\n",
    "# https://elitedatascience.com/keras-tutorial-deep-learning-in-python\n",
    "# https://faroit.github.io/keras-docs/0.3.3/examples/\n",
    "# https://machinelearningmastery.com/use-dropout-lstm-networks-time-series-forecasting/"
   ]
  },
  {
   "cell_type": "code",
   "execution_count": 9,
   "metadata": {},
   "outputs": [
    {
     "data": {
      "text/plain": [
       "(600, 2048, 2)"
      ]
     },
     "execution_count": 9,
     "metadata": {},
     "output_type": "execute_result"
    }
   ],
   "source": [
    "X_test.shape"
   ]
  },
  {
   "cell_type": "code",
   "execution_count": 10,
   "metadata": {},
   "outputs": [
    {
     "name": "stdout",
     "output_type": "stream",
     "text": [
      "_________________________________________________________________\n",
      "Layer (type)                 Output Shape              Param #   \n",
      "=================================================================\n",
      "lstm_1 (LSTM)                (None, 2048, 100)         41200     \n",
      "_________________________________________________________________\n",
      "time_distributed_1 (TimeDist (None, 2048, 50)          5050      \n",
      "_________________________________________________________________\n",
      "global_average_pooling1d_1 ( (None, 50)                0         \n",
      "_________________________________________________________________\n",
      "dense_2 (Dense)              (None, 3)                 153       \n",
      "=================================================================\n",
      "Total params: 46,403\n",
      "Trainable params: 46,403\n",
      "Non-trainable params: 0\n",
      "_________________________________________________________________\n",
      "None\n",
      "Train on 2400 samples, validate on 600 samples\n",
      "Epoch 1/40\n",
      "2400/2400 [==============================] - 450s - loss: 0.8946 - sensitivity: 0.1992 - specificity: 0.9796 - acc: 0.5654 - val_loss: 0.6297 - val_sensitivity: 0.5400 - val_specificity: 0.9375 - val_acc: 0.6917\n",
      "Epoch 2/40\n",
      "2400/2400 [==============================] - 450s - loss: 0.5244 - sensitivity: 0.6554 - specificity: 0.8990 - acc: 0.7267 - val_loss: 0.4594 - val_sensitivity: 0.7767 - val_specificity: 0.8975 - val_acc: 0.7867\n",
      "Epoch 3/40\n",
      "2400/2400 [==============================] - 444s - loss: 0.4403 - sensitivity: 0.7754 - specificity: 0.8940 - acc: 0.7846 - val_loss: 0.4249 - val_sensitivity: 0.7817 - val_specificity: 0.8958 - val_acc: 0.7867\n",
      "Epoch 4/40\n",
      "2400/2400 [==============================] - 447s - loss: 0.4047 - sensitivity: 0.8050 - specificity: 0.9035 - acc: 0.8054 - val_loss: 0.3769 - val_sensitivity: 0.8300 - val_specificity: 0.9167 - val_acc: 0.8333\n",
      "Epoch 5/40\n",
      "2400/2400 [==============================] - 449s - loss: 0.3932 - sensitivity: 0.8063 - specificity: 0.9042 - acc: 0.8075 - val_loss: 0.3857 - val_sensitivity: 0.8217 - val_specificity: 0.9117 - val_acc: 0.8217\n",
      "Epoch 6/40\n",
      "2400/2400 [==============================] - 445s - loss: 0.3607 - sensitivity: 0.8308 - specificity: 0.9158 - acc: 0.8312 - val_loss: 0.3424 - val_sensitivity: 0.8200 - val_specificity: 0.9117 - val_acc: 0.8217\n",
      "Epoch 7/40\n",
      "2400/2400 [==============================] - 453s - loss: 0.3510 - sensitivity: 0.8400 - specificity: 0.9204 - acc: 0.8408 - val_loss: 0.3378 - val_sensitivity: 0.8467 - val_specificity: 0.9233 - val_acc: 0.8467\n",
      "Epoch 8/40\n",
      "2400/2400 [==============================] - 446s - loss: 0.3330 - sensitivity: 0.8425 - specificity: 0.9219 - acc: 0.8433 - val_loss: 0.3225 - val_sensitivity: 0.8433 - val_specificity: 0.9233 - val_acc: 0.8467\n",
      "Epoch 9/40\n",
      "2400/2400 [==============================] - 443s - loss: 0.3135 - sensitivity: 0.8642 - specificity: 0.9327 - acc: 0.8646 - val_loss: 0.2994 - val_sensitivity: 0.8400 - val_specificity: 0.9208 - val_acc: 0.8417\n",
      "Epoch 10/40\n",
      "2400/2400 [==============================] - 445s - loss: 0.2924 - sensitivity: 0.8713 - specificity: 0.9360 - acc: 0.8713 - val_loss: 0.2844 - val_sensitivity: 0.8450 - val_specificity: 0.9233 - val_acc: 0.8450\n",
      "Epoch 11/40\n",
      "2400/2400 [==============================] - 444s - loss: 0.2714 - sensitivity: 0.8750 - specificity: 0.9375 - acc: 0.8750 - val_loss: 0.2765 - val_sensitivity: 0.8917 - val_specificity: 0.9458 - val_acc: 0.8917\n",
      "Epoch 12/40\n",
      "2400/2400 [==============================] - 443s - loss: 0.2642 - sensitivity: 0.8838 - specificity: 0.9425 - acc: 0.8846 - val_loss: 0.2333 - val_sensitivity: 0.8817 - val_specificity: 0.9417 - val_acc: 0.8833\n",
      "Epoch 13/40\n",
      "2400/2400 [==============================] - 442s - loss: 0.2603 - sensitivity: 0.8812 - specificity: 0.9412 - acc: 0.8825 - val_loss: 0.2183 - val_sensitivity: 0.9067 - val_specificity: 0.9542 - val_acc: 0.9083\n",
      "Epoch 14/40\n",
      "2400/2400 [==============================] - 445s - loss: 0.2400 - sensitivity: 0.8925 - specificity: 0.9465 - acc: 0.8929 - val_loss: 0.2134 - val_sensitivity: 0.9117 - val_specificity: 0.9558 - val_acc: 0.9117\n",
      "Epoch 15/40\n",
      "2400/2400 [==============================] - 445s - loss: 0.2152 - sensitivity: 0.9083 - specificity: 0.9542 - acc: 0.9083 - val_loss: 0.1836 - val_sensitivity: 0.9200 - val_specificity: 0.9600 - val_acc: 0.9200\n",
      "Epoch 16/40\n",
      "2400/2400 [==============================] - 443s - loss: 0.1985 - sensitivity: 0.9158 - specificity: 0.9581 - acc: 0.9163 - val_loss: 0.1866 - val_sensitivity: 0.9283 - val_specificity: 0.9642 - val_acc: 0.9283\n",
      "Epoch 17/40\n",
      "2400/2400 [==============================] - 439s - loss: 0.1897 - sensitivity: 0.9192 - specificity: 0.9596 - acc: 0.9192 - val_loss: 0.1851 - val_sensitivity: 0.9100 - val_specificity: 0.9558 - val_acc: 0.9117\n",
      "Epoch 18/40\n",
      "2400/2400 [==============================] - 441s - loss: 0.1809 - sensitivity: 0.9242 - specificity: 0.9621 - acc: 0.9242 - val_loss: 0.1747 - val_sensitivity: 0.9200 - val_specificity: 0.9600 - val_acc: 0.9200\n",
      "Epoch 19/40\n",
      "2400/2400 [==============================] - 456s - loss: 0.1765 - sensitivity: 0.9342 - specificity: 0.9671 - acc: 0.9342 - val_loss: 0.1929 - val_sensitivity: 0.9033 - val_specificity: 0.9517 - val_acc: 0.9033\n",
      "Epoch 20/40\n",
      "2400/2400 [==============================] - 450s - loss: 0.1913 - sensitivity: 0.9229 - specificity: 0.9615 - acc: 0.9229 - val_loss: 0.1742 - val_sensitivity: 0.9133 - val_specificity: 0.9567 - val_acc: 0.9133\n",
      "Epoch 21/40\n",
      "2400/2400 [==============================] - 448s - loss: 0.1609 - sensitivity: 0.9321 - specificity: 0.9660 - acc: 0.9321 - val_loss: 0.1753 - val_sensitivity: 0.9183 - val_specificity: 0.9592 - val_acc: 0.9183\n",
      "Epoch 22/40\n",
      "2400/2400 [==============================] - 442s - loss: 0.1558 - sensitivity: 0.9354 - specificity: 0.9679 - acc: 0.9358 - val_loss: 0.1968 - val_sensitivity: 0.9117 - val_specificity: 0.9558 - val_acc: 0.9117\n",
      "Epoch 23/40\n",
      "2400/2400 [==============================] - 446s - loss: 0.1603 - sensitivity: 0.9329 - specificity: 0.9665 - acc: 0.9329 - val_loss: 0.1931 - val_sensitivity: 0.9150 - val_specificity: 0.9575 - val_acc: 0.9150\n",
      "Epoch 24/40\n",
      "2400/2400 [==============================] - 443s - loss: 0.1530 - sensitivity: 0.9321 - specificity: 0.9660 - acc: 0.9321 - val_loss: 0.1652 - val_sensitivity: 0.9350 - val_specificity: 0.9675 - val_acc: 0.9350\n",
      "Epoch 25/40\n",
      "2400/2400 [==============================] - 446s - loss: 0.1502 - sensitivity: 0.9342 - specificity: 0.9671 - acc: 0.9342 - val_loss: 0.2206 - val_sensitivity: 0.9117 - val_specificity: 0.9558 - val_acc: 0.9117\n",
      "Epoch 26/40\n",
      "2400/2400 [==============================] - 439s - loss: 0.1355 - sensitivity: 0.9425 - specificity: 0.9712 - acc: 0.9425 - val_loss: 0.1559 - val_sensitivity: 0.9283 - val_specificity: 0.9642 - val_acc: 0.9283\n",
      "Epoch 27/40\n",
      "2400/2400 [==============================] - 443s - loss: 0.1258 - sensitivity: 0.9492 - specificity: 0.9746 - acc: 0.9492 - val_loss: 0.1549 - val_sensitivity: 0.9367 - val_specificity: 0.9683 - val_acc: 0.9367\n",
      "Epoch 28/40\n",
      "2400/2400 [==============================] - 440s - loss: 0.1196 - sensitivity: 0.9475 - specificity: 0.9737 - acc: 0.9475 - val_loss: 0.1489 - val_sensitivity: 0.9317 - val_specificity: 0.9658 - val_acc: 0.9317\n",
      "Epoch 29/40\n",
      "2400/2400 [==============================] - 447s - loss: 0.1450 - sensitivity: 0.9396 - specificity: 0.9698 - acc: 0.9396 - val_loss: 0.1504 - val_sensitivity: 0.9250 - val_specificity: 0.9625 - val_acc: 0.9250\n",
      "Epoch 30/40\n",
      "2400/2400 [==============================] - 437s - loss: 0.1253 - sensitivity: 0.9492 - specificity: 0.9746 - acc: 0.9492 - val_loss: 0.1344 - val_sensitivity: 0.9417 - val_specificity: 0.9708 - val_acc: 0.9417\n",
      "Epoch 31/40\n",
      "2400/2400 [==============================] - 442s - loss: 0.1363 - sensitivity: 0.9433 - specificity: 0.9717 - acc: 0.9433 - val_loss: 0.2363 - val_sensitivity: 0.9100 - val_specificity: 0.9550 - val_acc: 0.9100\n",
      "Epoch 32/40\n",
      "2400/2400 [==============================] - 457s - loss: 0.1461 - sensitivity: 0.9417 - specificity: 0.9708 - acc: 0.9417 - val_loss: 0.1440 - val_sensitivity: 0.9333 - val_specificity: 0.9667 - val_acc: 0.9333\n",
      "Epoch 33/40\n"
     ]
    },
    {
     "name": "stdout",
     "output_type": "stream",
     "text": [
      "2400/2400 [==============================] - 452s - loss: 0.1092 - sensitivity: 0.9583 - specificity: 0.9792 - acc: 0.9583 - val_loss: 0.1436 - val_sensitivity: 0.9350 - val_specificity: 0.9675 - val_acc: 0.9350\n",
      "Epoch 34/40\n",
      "2400/2400 [==============================] - 454s - loss: 0.1007 - sensitivity: 0.9587 - specificity: 0.9794 - acc: 0.9587 - val_loss: 0.1434 - val_sensitivity: 0.9350 - val_specificity: 0.9675 - val_acc: 0.9350\n",
      "Epoch 35/40\n",
      "2400/2400 [==============================] - 443s - loss: 0.0955 - sensitivity: 0.9621 - specificity: 0.9810 - acc: 0.9621 - val_loss: 0.1338 - val_sensitivity: 0.9450 - val_specificity: 0.9725 - val_acc: 0.9450\n",
      "Epoch 36/40\n",
      "2400/2400 [==============================] - 440s - loss: 0.1048 - sensitivity: 0.9604 - specificity: 0.9802 - acc: 0.9604 - val_loss: 0.1468 - val_sensitivity: 0.9350 - val_specificity: 0.9675 - val_acc: 0.9350\n",
      "Epoch 37/40\n",
      "2400/2400 [==============================] - 446s - loss: 0.1970 - sensitivity: 0.9142 - specificity: 0.9571 - acc: 0.9142 - val_loss: 0.1664 - val_sensitivity: 0.9217 - val_specificity: 0.9617 - val_acc: 0.9217\n",
      "Epoch 38/40\n",
      "2400/2400 [==============================] - 439s - loss: 0.1221 - sensitivity: 0.9504 - specificity: 0.9752 - acc: 0.9504 - val_loss: 0.1435 - val_sensitivity: 0.9300 - val_specificity: 0.9650 - val_acc: 0.9300\n",
      "Epoch 39/40\n",
      "2400/2400 [==============================] - 443s - loss: 0.0987 - sensitivity: 0.9613 - specificity: 0.9806 - acc: 0.9613 - val_loss: 0.1388 - val_sensitivity: 0.9367 - val_specificity: 0.9683 - val_acc: 0.9367\n",
      "Epoch 40/40\n",
      "2400/2400 [==============================] - 406s - loss: 0.0980 - sensitivity: 0.9621 - specificity: 0.9810 - acc: 0.9621 - val_loss: 0.1276 - val_sensitivity: 0.9400 - val_specificity: 0.9700 - val_acc: 0.9400\n"
     ]
    }
   ],
   "source": [
    "# create the model\n",
    "model = Sequential()\n",
    "# model.add(LSTM(100, input_shape= (4096, 1)))\n",
    "# model.add(LSTM(100, input_shape= (64, 64)))\n",
    "# model.add(Dropout(0.1, input_shape= (timesteps, data_dim)))\n",
    "# model.add(LSTM(100, return_sequences = True))\n",
    "\n",
    "model.add(LSTM(100, input_shape= (timesteps, data_dim), return_sequences = True))\n",
    "# model.add(Dropout(0.1))\n",
    "model.add(TimeDistributed(Dense(50)))\n",
    "# model.add(GlobalMaxPooling1D())\n",
    "model.add(GlobalAveragePooling1D())\n",
    "# model.add(Flatten())\n",
    "model.add(Dense(3, activation='softmax'))\n",
    "model.compile(loss='categorical_crossentropy', optimizer='adam', metrics=[sensitivity, specificity, 'accuracy'])\n",
    "print(model.summary())\n",
    "history = model.fit(X_train, y_train, validation_data=(X_test, y_test), batch_size=64, epochs=40)"
   ]
  },
  {
   "cell_type": "code",
   "execution_count": 11,
   "metadata": {},
   "outputs": [
    {
     "data": {
      "image/png": "[encoded data removed]",
      "text/plain": [
       "<matplotlib.figure.Figure at 0x7fd864de16a0>"
      ]
     },
     "metadata": {},
     "output_type": "display_data"
    }
   ],
   "source": [
    "# Plot the sensitivity along with epochs\n",
    "plt.plot(history.history['sensitivity'], 'g--')\n",
    "plt.title('Model Sensitivity')\n",
    "plt.ylabel('Sensitivity')\n",
    "plt.xlabel('Epoch #')\n",
    "plt.show()"
   ]
  },
  {
   "cell_type": "code",
   "execution_count": 12,
   "metadata": {},
   "outputs": [
    {
     "data": {
      "image/png": "[encoded data removed]",
      "text/plain": [
       "<matplotlib.figure.Figure at 0x7fd85d71e470>"
      ]
     },
     "metadata": {},
     "output_type": "display_data"
    }
   ],
   "source": [
    "# Plot the specificity along with epochs\n",
    "plt.plot(history.history['specificity'], 'b--')\n",
    "plt.title('Model Specificity')\n",
    "plt.ylabel('Specificity')\n",
    "plt.xlabel('Epoch #')\n",
    "plt.show()"
   ]
  },
  {
   "cell_type": "code",
   "execution_count": 13,
   "metadata": {},
   "outputs": [
    {
     "data": {
      "image/png": "[encoded data removed]",
      "text/plain": [
       "<matplotlib.figure.Figure at 0x7fd85d618b70>"
      ]
     },
     "metadata": {},
     "output_type": "display_data"
    }
   ],
   "source": [
    "# Plot the classification accuracy along with epochs\n",
    "plt.plot(history.history['acc'], 'r--')\n",
    "plt.title('Model Accuracy')\n",
    "plt.ylabel('Accuracy')\n",
    "plt.xlabel('Epoch #')\n",
    "plt.show()"
   ]
  },
  {
   "cell_type": "code",
   "execution_count": 14,
   "metadata": {},
   "outputs": [
    {
     "name": "stdout",
     "output_type": "stream",
     "text": [
      "Sensitivity = 94.00%\n",
      "Specificity = 97.00%\n",
      "Classification Accuracy = 94.00%\n"
     ]
    }
   ],
   "source": [
    "# evaluate the classification accuracy\n",
    "scores = model.evaluate(X_test, y_test, verbose=0)\n",
    "print(\"Sensitivity = %.2f%%\" % (scores[1]*100))\n",
    "print(\"Specificity = %.2f%%\" % (scores[2]*100))\n",
    "print(\"Classification Accuracy = %.2f%%\" % (scores[3]*100))"
   ]
  },
  {
   "cell_type": "code",
   "execution_count": null,
   "metadata": {
    "collapsed": true
   },
   "outputs": [],
   "source": []
  }
 ],
 "metadata": {
  "kernelspec": {
   "display_name": "Python 3",
   "language": "python",
   "name": "python3"
  },
  "language_info": {
   "codemirror_mode": {
    "name": "ipython",
    "version": 3
   },
   "file_extension": ".py",
   "mimetype": "text/x-python",
   "name": "python",
   "nbconvert_exporter": "python",
   "pygments_lexer": "ipython3",
   "version": "3.6.1"
  }
 },
 "nbformat": 4,
 "nbformat_minor": 2
}

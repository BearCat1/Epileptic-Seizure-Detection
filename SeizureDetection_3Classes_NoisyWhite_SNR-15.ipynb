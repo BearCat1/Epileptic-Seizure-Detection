{
 "cells": [
  {
   "cell_type": "code",
   "execution_count": 15,
   "metadata": {},
   "outputs": [],
   "source": [
    "# Import libraries and modules\n",
    "import numpy as np\n",
    "np.random.seed(123)  # for reproducibility\n",
    "import pandas as pd\n",
    "import seaborn as sns\n",
    "import matplotlib.pyplot as plt\n",
    "\n",
    "import keras\n",
    "from keras.models import Sequential\n",
    "from keras.layers import Dense\n",
    "from keras.layers import LSTM\n",
    "from keras.layers import Dropout\n",
    "from keras.layers import Flatten, TimeDistributed, GlobalMaxPooling1D, GlobalAveragePooling1D\n",
    "from keras.preprocessing import sequence\n",
    "from keras.utils import np_utils\n",
    "from keras import metrics\n",
    "from keras import backend\n",
    "\n",
    "%matplotlib inline"
   ]
  },
  {
   "cell_type": "code",
   "execution_count": 16,
   "metadata": {
    "collapsed": true
   },
   "outputs": [],
   "source": [
    "# Define the performance metrics of rmse, sensitivity, recall, specificity, and precision\n",
    "\n",
    "def rmse(y_true, y_pred):\n",
    "    return backend.sqrt(backend.mean(backend.square(y_pred - y_true), axis = -1))\n",
    "\n",
    "def sensitivity(y_true, y_pred):  \n",
    "     y_pred_pos = backend.round(backend.clip(y_pred, 0, 1))\n",
    "     y_pred_neg = 1 - y_pred_pos\n",
    "     y_pos = backend.round(backend.clip(y_true, 0, 1))\n",
    "     y_neg = 1 - y_pos\n",
    "     tp = backend.sum(y_pos * y_pred_pos)\n",
    "     tn = backend.sum(y_neg * y_pred_neg)\n",
    "     fp = backend.sum(y_neg * y_pred_pos)\n",
    "     fn = backend.sum(y_pos * y_pred_neg)\n",
    "     sensitivity = tp / (tp + fn)\n",
    "     return sensitivity\n",
    "\n",
    "# Recall is the same as the sensitivity\n",
    "def recall(y_true, y_pred):  \n",
    "     y_pred_pos = backend.round(backend.clip(y_pred, 0, 1))\n",
    "     y_pred_neg = 1 - y_pred_pos\n",
    "     y_pos = backend.round(backend.clip(y_true, 0, 1))\n",
    "     y_neg = 1 - y_pos\n",
    "     tp = backend.sum(y_pos * y_pred_pos)\n",
    "     tn = backend.sum(y_neg * y_pred_neg)\n",
    "     fp = backend.sum(y_neg * y_pred_pos)\n",
    "     fn = backend.sum(y_pos * y_pred_neg)\n",
    "     recall = tp / (tp + fn)\n",
    "     return recall\n",
    "\n",
    "def specificity(y_true, y_pred):  \n",
    "     y_pred_pos = backend.round(backend.clip(y_pred, 0, 1))\n",
    "     y_pred_neg = 1 - y_pred_pos\n",
    "     y_pos = backend.round(backend.clip(y_true, 0, 1))\n",
    "     y_neg = 1 - y_pos\n",
    "     tp = backend.sum(y_pos * y_pred_pos)\n",
    "     tn = backend.sum(y_neg * y_pred_neg)\n",
    "     fp = backend.sum(y_neg * y_pred_pos)\n",
    "     fn = backend.sum(y_pos * y_pred_neg)\n",
    "     specificity = tn / (tn + fp)\n",
    "     return specificity\n",
    "\n",
    "\n",
    "def precision(y_true, y_pred):  \n",
    "     y_pred_pos = backend.round(backend.clip(y_pred, 0, 1))\n",
    "     y_pred_neg = 1 - y_pred_pos\n",
    "     y_pos = backend.round(backend.clip(y_true, 0, 1))\n",
    "     y_neg = 1 - y_pos\n",
    "     tp = backend.sum(y_pos * y_pred_pos)\n",
    "     tn = backend.sum(y_neg * y_pred_neg)\n",
    "     fp = backend.sum(y_neg * y_pred_pos)\n",
    "     fn = backend.sum(y_pos * y_pred_neg)\n",
    "     precision = tp / (tp + fp)\n",
    "     return precision"
   ]
  },
  {
   "cell_type": "code",
   "execution_count": 17,
   "metadata": {
    "collapsed": true
   },
   "outputs": [],
   "source": [
    "#import data \n",
    "# data=pd.read_csv('/home/ramyh/Documents/ClassDeepLearning/EEGdata.csv', names=['f1':'f2049'])\n",
    "data=pd.read_csv('/home/ramyh/Documents/ClassDeepLearning/EEGData_3Classes_NoisyWhite_SNR-15.csv') # dataset including 1000 samples from each class"
   ]
  },
  {
   "cell_type": "code",
   "execution_count": 18,
   "metadata": {},
   "outputs": [
    {
     "data": {
      "text/plain": [
       "1    1000\n",
       "2    1000\n",
       "0    1000\n",
       "Name: f4097, dtype: int64"
      ]
     },
     "execution_count": 18,
     "metadata": {},
     "output_type": "execute_result"
    }
   ],
   "source": [
    "data[\"f4097\"].value_counts()"
   ]
  },
  {
   "cell_type": "code",
   "execution_count": 19,
   "metadata": {
    "collapsed": true
   },
   "outputs": [],
   "source": [
    "# shuffle the data\n",
    "data=data.iloc[np.random.permutation(len(data))]"
   ]
  },
  {
   "cell_type": "code",
   "execution_count": 20,
   "metadata": {
    "collapsed": true
   },
   "outputs": [],
   "source": [
    "# reset the data index\n",
    "data=data.reset_index(drop=True)"
   ]
  },
  {
   "cell_type": "code",
   "execution_count": 21,
   "metadata": {},
   "outputs": [
    {
     "data": {
      "text/plain": [
       "2"
      ]
     },
     "execution_count": 21,
     "metadata": {},
     "output_type": "execute_result"
    }
   ],
   "source": [
    "# Time Steps of LSTM\n",
    "data_length = 4096\n",
    "timesteps = 2048\n",
    "data_dim = data_length//timesteps\n",
    "data_dim"
   ]
  },
  {
   "cell_type": "code",
   "execution_count": 22,
   "metadata": {
    "collapsed": true
   },
   "outputs": [],
   "source": [
    "# training data\n",
    "X_train=data.loc[0:2399,data.columns != 'f4097']\n",
    "# training data.reshape\n",
    "# X_train=X_train.values.reshape([X_train.shape[0], -1, 1])\n",
    "# X_train=X_train.values.reshape([X_train.shape[0], 64, 64])\n",
    "X_train=X_train.values.reshape([X_train.shape[0], timesteps, data_dim])\n",
    "\n",
    "temp=data['f4097']\n",
    "y_train=temp[0:2400]\n",
    "# map data into arrays\n",
    "y_train=np_utils.to_categorical(y_train, num_classes=3)\n",
    "\n",
    "# test data\n",
    "X_test=data.loc[2400:2999,data.columns != 'f4097']\n",
    "\n",
    "# test data.reshape\n",
    "# X_test = X_test.values.reshape([X_test.shape[0], -1, 1])\n",
    "# X_test = X_test.values.reshape([X_test.shape[0], 64, 64])\n",
    "X_test = X_test.values.reshape([X_test.shape[0], timesteps, data_dim])\n",
    "\n",
    "y_test=temp[2400:3000]\n",
    "# map data into arrays\n",
    "y_test=np_utils.to_categorical(y_test, num_classes=3)\n",
    "\n",
    "# https://elitedatascience.com/keras-tutorial-deep-learning-in-python\n",
    "# https://faroit.github.io/keras-docs/0.3.3/examples/\n",
    "# https://machinelearningmastery.com/use-dropout-lstm-networks-time-series-forecasting/"
   ]
  },
  {
   "cell_type": "code",
   "execution_count": 23,
   "metadata": {},
   "outputs": [
    {
     "data": {
      "text/plain": [
       "(600, 2048, 2)"
      ]
     },
     "execution_count": 23,
     "metadata": {},
     "output_type": "execute_result"
    }
   ],
   "source": [
    "X_test.shape"
   ]
  },
  {
   "cell_type": "code",
   "execution_count": 24,
   "metadata": {},
   "outputs": [
    {
     "name": "stdout",
     "output_type": "stream",
     "text": [
      "_________________________________________________________________\n",
      "Layer (type)                 Output Shape              Param #   \n",
      "=================================================================\n",
      "lstm_2 (LSTM)                (None, 2048, 100)         41200     \n",
      "_________________________________________________________________\n",
      "time_distributed_2 (TimeDist (None, 2048, 50)          5050      \n",
      "_________________________________________________________________\n",
      "global_average_pooling1d_2 ( (None, 50)                0         \n",
      "_________________________________________________________________\n",
      "dense_4 (Dense)              (None, 3)                 153       \n",
      "=================================================================\n",
      "Total params: 46,403\n",
      "Trainable params: 46,403\n",
      "Non-trainable params: 0\n",
      "_________________________________________________________________\n",
      "None\n",
      "Train on 2400 samples, validate on 600 samples\n",
      "Epoch 1/40\n",
      "2400/2400 [==============================] - 241s - loss: 1.0332 - sensitivity: 0.0267 - specificity: 0.9992 - acc: 0.4833 - val_loss: 0.8829 - val_sensitivity: 0.1500 - val_specificity: 0.9958 - val_acc: 0.6750\n",
      "Epoch 2/40\n",
      "2400/2400 [==============================] - 244s - loss: 0.6812 - sensitivity: 0.4004 - specificity: 0.9375 - acc: 0.6767 - val_loss: 0.5188 - val_sensitivity: 0.5833 - val_specificity: 0.9317 - val_acc: 0.7617\n",
      "Epoch 3/40\n",
      "2400/2400 [==============================] - 244s - loss: 0.4999 - sensitivity: 0.6863 - specificity: 0.8698 - acc: 0.7154 - val_loss: 0.4691 - val_sensitivity: 0.7383 - val_specificity: 0.8800 - val_acc: 0.7533\n",
      "Epoch 4/40\n",
      "2400/2400 [==============================] - 244s - loss: 0.4787 - sensitivity: 0.7275 - specificity: 0.8679 - acc: 0.7325 - val_loss: 0.4767 - val_sensitivity: 0.6717 - val_specificity: 0.8400 - val_acc: 0.6750\n",
      "Epoch 5/40\n",
      "2400/2400 [==============================] - 244s - loss: 0.4590 - sensitivity: 0.7488 - specificity: 0.8773 - acc: 0.7521 - val_loss: 0.4489 - val_sensitivity: 0.7567 - val_specificity: 0.8783 - val_acc: 0.7567\n",
      "Epoch 6/40\n",
      "2400/2400 [==============================] - 245s - loss: 0.4399 - sensitivity: 0.7825 - specificity: 0.8925 - acc: 0.7837 - val_loss: 0.4287 - val_sensitivity: 0.7733 - val_specificity: 0.8892 - val_acc: 0.7750\n",
      "Epoch 7/40\n",
      "2400/2400 [==============================] - 245s - loss: 0.4503 - sensitivity: 0.7617 - specificity: 0.8817 - acc: 0.7629 - val_loss: 0.4567 - val_sensitivity: 0.7550 - val_specificity: 0.8825 - val_acc: 0.7583\n",
      "Epoch 8/40\n",
      "2400/2400 [==============================] - 245s - loss: 0.4370 - sensitivity: 0.7738 - specificity: 0.8877 - acc: 0.7750 - val_loss: 0.4186 - val_sensitivity: 0.7933 - val_specificity: 0.8992 - val_acc: 0.7967\n",
      "Epoch 9/40\n",
      "2400/2400 [==============================] - 245s - loss: 0.4383 - sensitivity: 0.7704 - specificity: 0.8858 - acc: 0.7717 - val_loss: 0.4494 - val_sensitivity: 0.7583 - val_specificity: 0.8792 - val_acc: 0.7583\n",
      "Epoch 10/40\n",
      "2400/2400 [==============================] - 244s - loss: 0.4545 - sensitivity: 0.7604 - specificity: 0.8823 - acc: 0.7621 - val_loss: 0.4155 - val_sensitivity: 0.8000 - val_specificity: 0.9017 - val_acc: 0.8033\n",
      "Epoch 11/40\n",
      "2400/2400 [==============================] - 244s - loss: 0.4173 - sensitivity: 0.7904 - specificity: 0.8960 - acc: 0.7913 - val_loss: 0.4126 - val_sensitivity: 0.8150 - val_specificity: 0.9075 - val_acc: 0.8150\n",
      "Epoch 12/40\n",
      "2400/2400 [==============================] - 244s - loss: 0.4126 - sensitivity: 0.7925 - specificity: 0.8965 - acc: 0.7925 - val_loss: 0.4071 - val_sensitivity: 0.8000 - val_specificity: 0.9000 - val_acc: 0.8000\n",
      "Epoch 13/40\n",
      "2400/2400 [==============================] - 243s - loss: 0.4116 - sensitivity: 0.7904 - specificity: 0.8958 - acc: 0.7913 - val_loss: 0.4048 - val_sensitivity: 0.8017 - val_specificity: 0.9008 - val_acc: 0.8017\n",
      "Epoch 14/40\n",
      "2400/2400 [==============================] - 246s - loss: 0.4288 - sensitivity: 0.7762 - specificity: 0.8885 - acc: 0.7771 - val_loss: 0.4094 - val_sensitivity: 0.7933 - val_specificity: 0.8983 - val_acc: 0.7933\n",
      "Epoch 15/40\n",
      "2400/2400 [==============================] - 250s - loss: 0.4272 - sensitivity: 0.7788 - specificity: 0.8900 - acc: 0.7792 - val_loss: 0.4157 - val_sensitivity: 0.7950 - val_specificity: 0.8983 - val_acc: 0.7950\n",
      "Epoch 16/40\n",
      "2400/2400 [==============================] - 246s - loss: 0.4151 - sensitivity: 0.7925 - specificity: 0.8971 - acc: 0.7938 - val_loss: 0.4375 - val_sensitivity: 0.7783 - val_specificity: 0.8900 - val_acc: 0.7800\n",
      "Epoch 17/40\n",
      "2400/2400 [==============================] - 244s - loss: 0.4121 - sensitivity: 0.7983 - specificity: 0.8996 - acc: 0.7987 - val_loss: 0.4102 - val_sensitivity: 0.7883 - val_specificity: 0.8942 - val_acc: 0.7883\n",
      "Epoch 18/40\n",
      "2400/2400 [==============================] - 247s - loss: 0.4118 - sensitivity: 0.7913 - specificity: 0.8958 - acc: 0.7913 - val_loss: 0.4032 - val_sensitivity: 0.8067 - val_specificity: 0.9042 - val_acc: 0.8083\n",
      "Epoch 19/40\n",
      "2400/2400 [==============================] - 244s - loss: 0.4172 - sensitivity: 0.7900 - specificity: 0.8958 - acc: 0.7913 - val_loss: 0.4285 - val_sensitivity: 0.7900 - val_specificity: 0.8950 - val_acc: 0.7900\n",
      "Epoch 20/40\n",
      "2400/2400 [==============================] - 246s - loss: 0.4183 - sensitivity: 0.7796 - specificity: 0.8904 - acc: 0.7804 - val_loss: 0.4151 - val_sensitivity: 0.7700 - val_specificity: 0.8867 - val_acc: 0.7700\n",
      "Epoch 21/40\n",
      "2400/2400 [==============================] - 245s - loss: 0.4148 - sensitivity: 0.7933 - specificity: 0.8973 - acc: 0.7933 - val_loss: 0.3980 - val_sensitivity: 0.8033 - val_specificity: 0.9017 - val_acc: 0.8033\n",
      "Epoch 22/40\n",
      "2400/2400 [==============================] - 245s - loss: 0.4103 - sensitivity: 0.7837 - specificity: 0.8921 - acc: 0.7842 - val_loss: 0.4104 - val_sensitivity: 0.7783 - val_specificity: 0.8908 - val_acc: 0.7783\n",
      "Epoch 23/40\n",
      "2400/2400 [==============================] - 245s - loss: 0.4145 - sensitivity: 0.7892 - specificity: 0.8948 - acc: 0.7896 - val_loss: 0.3973 - val_sensitivity: 0.7933 - val_specificity: 0.8983 - val_acc: 0.7950\n",
      "Epoch 24/40\n",
      "2400/2400 [==============================] - 245s - loss: 0.4049 - sensitivity: 0.7900 - specificity: 0.8950 - acc: 0.7900 - val_loss: 0.3947 - val_sensitivity: 0.7983 - val_specificity: 0.9000 - val_acc: 0.7983\n",
      "Epoch 25/40\n",
      "2400/2400 [==============================] - 246s - loss: 0.4048 - sensitivity: 0.7933 - specificity: 0.8969 - acc: 0.7933 - val_loss: 0.3985 - val_sensitivity: 0.7933 - val_specificity: 0.8967 - val_acc: 0.7933\n",
      "Epoch 26/40\n",
      "2400/2400 [==============================] - 244s - loss: 0.4073 - sensitivity: 0.7950 - specificity: 0.8979 - acc: 0.7958 - val_loss: 0.4249 - val_sensitivity: 0.7917 - val_specificity: 0.8958 - val_acc: 0.7917\n",
      "Epoch 27/40\n",
      "2400/2400 [==============================] - 243s - loss: 0.4175 - sensitivity: 0.7925 - specificity: 0.8969 - acc: 0.7929 - val_loss: 0.4005 - val_sensitivity: 0.7933 - val_specificity: 0.8975 - val_acc: 0.7933\n",
      "Epoch 28/40\n",
      "2400/2400 [==============================] - 245s - loss: 0.4073 - sensitivity: 0.8046 - specificity: 0.9029 - acc: 0.8050 - val_loss: 0.4070 - val_sensitivity: 0.8017 - val_specificity: 0.9017 - val_acc: 0.8033\n",
      "Epoch 29/40\n",
      "2400/2400 [==============================] - 253s - loss: 0.4018 - sensitivity: 0.7925 - specificity: 0.8971 - acc: 0.7942 - val_loss: 0.3912 - val_sensitivity: 0.8117 - val_specificity: 0.9058 - val_acc: 0.8117\n",
      "Epoch 30/40\n",
      "2400/2400 [==============================] - 261s - loss: 0.4055 - sensitivity: 0.8013 - specificity: 0.9015 - acc: 0.8025 - val_loss: 0.4048 - val_sensitivity: 0.7933 - val_specificity: 0.8983 - val_acc: 0.7950\n",
      "Epoch 31/40\n",
      "2400/2400 [==============================] - 261s - loss: 0.3936 - sensitivity: 0.7987 - specificity: 0.9002 - acc: 0.8000 - val_loss: 0.3801 - val_sensitivity: 0.8150 - val_specificity: 0.9075 - val_acc: 0.8150\n",
      "Epoch 32/40\n",
      "2400/2400 [==============================] - 259s - loss: 0.3977 - sensitivity: 0.7971 - specificity: 0.8988 - acc: 0.7975 - val_loss: 0.4015 - val_sensitivity: 0.7867 - val_specificity: 0.8950 - val_acc: 0.7883\n",
      "Epoch 33/40\n"
     ]
    },
    {
     "name": "stdout",
     "output_type": "stream",
     "text": [
      "2400/2400 [==============================] - 249s - loss: 0.4070 - sensitivity: 0.7946 - specificity: 0.8975 - acc: 0.7950 - val_loss: 0.4573 - val_sensitivity: 0.6833 - val_specificity: 0.8425 - val_acc: 0.6850\n",
      "Epoch 34/40\n",
      "2400/2400 [==============================] - 249s - loss: 0.4080 - sensitivity: 0.7900 - specificity: 0.8952 - acc: 0.7900 - val_loss: 0.3951 - val_sensitivity: 0.7950 - val_specificity: 0.8975 - val_acc: 0.7950\n",
      "Epoch 35/40\n",
      "2400/2400 [==============================] - 247s - loss: 0.4002 - sensitivity: 0.7929 - specificity: 0.8973 - acc: 0.7942 - val_loss: 0.4141 - val_sensitivity: 0.7733 - val_specificity: 0.8883 - val_acc: 0.7750\n",
      "Epoch 36/40\n",
      "2400/2400 [==============================] - 253s - loss: 0.4107 - sensitivity: 0.7908 - specificity: 0.8969 - acc: 0.7925 - val_loss: 0.3913 - val_sensitivity: 0.8000 - val_specificity: 0.9008 - val_acc: 0.8017\n",
      "Epoch 37/40\n",
      "2400/2400 [==============================] - 246s - loss: 0.3944 - sensitivity: 0.7975 - specificity: 0.8988 - acc: 0.7975 - val_loss: 0.3964 - val_sensitivity: 0.8017 - val_specificity: 0.9025 - val_acc: 0.8017\n",
      "Epoch 38/40\n",
      "2400/2400 [==============================] - 246s - loss: 0.3883 - sensitivity: 0.8046 - specificity: 0.9029 - acc: 0.8054 - val_loss: 0.3786 - val_sensitivity: 0.8050 - val_specificity: 0.9025 - val_acc: 0.8050\n",
      "Epoch 39/40\n",
      "2400/2400 [==============================] - 244s - loss: 0.3870 - sensitivity: 0.8096 - specificity: 0.9050 - acc: 0.8100 - val_loss: 0.3827 - val_sensitivity: 0.8100 - val_specificity: 0.9050 - val_acc: 0.8100\n",
      "Epoch 40/40\n",
      "2400/2400 [==============================] - 243s - loss: 0.3924 - sensitivity: 0.8033 - specificity: 0.9019 - acc: 0.8033 - val_loss: 0.3930 - val_sensitivity: 0.7983 - val_specificity: 0.9000 - val_acc: 0.8000\n"
     ]
    }
   ],
   "source": [
    "# create the model\n",
    "model = Sequential()\n",
    "# model.add(LSTM(100, input_shape= (4096, 1)))\n",
    "# model.add(LSTM(100, input_shape= (64, 64)))\n",
    "# model.add(Dropout(0.1, input_shape= (timesteps, data_dim)))\n",
    "# model.add(LSTM(100, return_sequences = True))\n",
    "\n",
    "model.add(LSTM(100, input_shape= (timesteps, data_dim), return_sequences = True))\n",
    "# model.add(Dropout(0.1))\n",
    "model.add(TimeDistributed(Dense(50)))\n",
    "# model.add(GlobalMaxPooling1D())\n",
    "model.add(GlobalAveragePooling1D())\n",
    "# model.add(Flatten())\n",
    "model.add(Dense(3, activation='softmax'))\n",
    "model.compile(loss='categorical_crossentropy', optimizer='adam', metrics=[sensitivity, specificity, 'accuracy'])\n",
    "print(model.summary())\n",
    "history = model.fit(X_train, y_train, validation_data=(X_test, y_test), batch_size=64, epochs=40)"
   ]
  },
  {
   "cell_type": "code",
   "execution_count": 25,
   "metadata": {},
   "outputs": [
    {
     "data": {
      "image/png": "[encoded data removed]",
      "text/plain": [
       "<matplotlib.figure.Figure at 0x7f0e74ffb208>"
      ]
     },
     "metadata": {},
     "output_type": "display_data"
    }
   ],
   "source": [
    "# Plot the sensitivity along with epochs\n",
    "plt.plot(history.history['sensitivity'], 'g--')\n",
    "plt.title('Model Sensitivity')\n",
    "plt.ylabel('Sensitivity')\n",
    "plt.xlabel('Epoch #')\n",
    "plt.show()"
   ]
  },
  {
   "cell_type": "code",
   "execution_count": 26,
   "metadata": {},
   "outputs": [
    {
     "data": {
      "image/png": "[encoded data removed]",
      "text/plain": [
       "<matplotlib.figure.Figure at 0x7f0e74ffb080>"
      ]
     },
     "metadata": {},
     "output_type": "display_data"
    }
   ],
   "source": [
    "# Plot the specificity along with epochs\n",
    "plt.plot(history.history['specificity'], 'b--')\n",
    "plt.title('Model Specificity')\n",
    "plt.ylabel('Specificity')\n",
    "plt.xlabel('Epoch #')\n",
    "plt.show()"
   ]
  },
  {
   "cell_type": "code",
   "execution_count": 27,
   "metadata": {},
   "outputs": [
    {
     "data": {
      "image/png": "[encoded data removed]",
      "text/plain": [
       "<matplotlib.figure.Figure at 0x7f0e742ab2e8>"
      ]
     },
     "metadata": {},
     "output_type": "display_data"
    }
   ],
   "source": [
    "# Plot the classification accuracy along with epochs\n",
    "plt.plot(history.history['acc'], 'r--')\n",
    "plt.title('Model Accuracy')\n",
    "plt.ylabel('Accuracy')\n",
    "plt.xlabel('Epoch #')\n",
    "plt.show()"
   ]
  },
  {
   "cell_type": "code",
   "execution_count": 28,
   "metadata": {},
   "outputs": [
    {
     "name": "stdout",
     "output_type": "stream",
     "text": [
      "Sensitivity = 79.83%\n",
      "Specificity = 90.00%\n",
      "Classification Accuracy = 80.00%\n"
     ]
    }
   ],
   "source": [
    "# evaluate the classification accuracy\n",
    "scores = model.evaluate(X_test, y_test, verbose=0)\n",
    "print(\"Sensitivity = %.2f%%\" % (scores[1]*100))\n",
    "print(\"Specificity = %.2f%%\" % (scores[2]*100))\n",
    "print(\"Classification Accuracy = %.2f%%\" % (scores[3]*100))"
   ]
  },
  {
   "cell_type": "code",
   "execution_count": null,
   "metadata": {
    "collapsed": true
   },
   "outputs": [],
   "source": []
  }
 ],
 "metadata": {
  "kernelspec": {
   "display_name": "Python 3",
   "language": "python",
   "name": "python3"
  },
  "language_info": {
   "codemirror_mode": {
    "name": "ipython",
    "version": 3
   },
   "file_extension": ".py",
   "mimetype": "text/x-python",
   "name": "python",
   "nbconvert_exporter": "python",
   "pygments_lexer": "ipython3",
   "version": "3.6.1"
  }
 },
 "nbformat": 4,
 "nbformat_minor": 2
}

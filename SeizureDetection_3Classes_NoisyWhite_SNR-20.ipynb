{
 "cells": [
  {
   "cell_type": "code",
   "execution_count": 1,
   "metadata": {},
   "outputs": [
    {
     "name": "stderr",
     "output_type": "stream",
     "text": [
      "Using TensorFlow backend.\n"
     ]
    }
   ],
   "source": [
    "# Import libraries and modules\n",
    "import numpy as np\n",
    "np.random.seed(123)  # for reproducibility\n",
    "import pandas as pd\n",
    "import seaborn as sns\n",
    "import matplotlib.pyplot as plt\n",
    "\n",
    "import keras\n",
    "from keras.models import Sequential\n",
    "from keras.layers import Dense\n",
    "from keras.layers import LSTM\n",
    "from keras.layers import Dropout\n",
    "from keras.layers import Flatten, TimeDistributed, GlobalMaxPooling1D, GlobalAveragePooling1D\n",
    "from keras.preprocessing import sequence\n",
    "from keras.utils import np_utils\n",
    "from keras import metrics\n",
    "from keras import backend\n",
    "\n",
    "%matplotlib inline"
   ]
  },
  {
   "cell_type": "code",
   "execution_count": 2,
   "metadata": {
    "collapsed": true
   },
   "outputs": [],
   "source": [
    "# Define the performance metrics of rmse, sensitivity, recall, specificity, and precision\n",
    "\n",
    "def rmse(y_true, y_pred):\n",
    "    return backend.sqrt(backend.mean(backend.square(y_pred - y_true), axis = -1))\n",
    "\n",
    "def sensitivity(y_true, y_pred):  \n",
    "     y_pred_pos = backend.round(backend.clip(y_pred, 0, 1))\n",
    "     y_pred_neg = 1 - y_pred_pos\n",
    "     y_pos = backend.round(backend.clip(y_true, 0, 1))\n",
    "     y_neg = 1 - y_pos\n",
    "     tp = backend.sum(y_pos * y_pred_pos)\n",
    "     tn = backend.sum(y_neg * y_pred_neg)\n",
    "     fp = backend.sum(y_neg * y_pred_pos)\n",
    "     fn = backend.sum(y_pos * y_pred_neg)\n",
    "     sensitivity = tp / (tp + fn)\n",
    "     return sensitivity\n",
    "\n",
    "# Recall is the same as the sensitivity\n",
    "def recall(y_true, y_pred):  \n",
    "     y_pred_pos = backend.round(backend.clip(y_pred, 0, 1))\n",
    "     y_pred_neg = 1 - y_pred_pos\n",
    "     y_pos = backend.round(backend.clip(y_true, 0, 1))\n",
    "     y_neg = 1 - y_pos\n",
    "     tp = backend.sum(y_pos * y_pred_pos)\n",
    "     tn = backend.sum(y_neg * y_pred_neg)\n",
    "     fp = backend.sum(y_neg * y_pred_pos)\n",
    "     fn = backend.sum(y_pos * y_pred_neg)\n",
    "     recall = tp / (tp + fn)\n",
    "     return recall\n",
    "\n",
    "def specificity(y_true, y_pred):  \n",
    "     y_pred_pos = backend.round(backend.clip(y_pred, 0, 1))\n",
    "     y_pred_neg = 1 - y_pred_pos\n",
    "     y_pos = backend.round(backend.clip(y_true, 0, 1))\n",
    "     y_neg = 1 - y_pos\n",
    "     tp = backend.sum(y_pos * y_pred_pos)\n",
    "     tn = backend.sum(y_neg * y_pred_neg)\n",
    "     fp = backend.sum(y_neg * y_pred_pos)\n",
    "     fn = backend.sum(y_pos * y_pred_neg)\n",
    "     specificity = tn / (tn + fp)\n",
    "     return specificity\n",
    "\n",
    "\n",
    "def precision(y_true, y_pred):  \n",
    "     y_pred_pos = backend.round(backend.clip(y_pred, 0, 1))\n",
    "     y_pred_neg = 1 - y_pred_pos\n",
    "     y_pos = backend.round(backend.clip(y_true, 0, 1))\n",
    "     y_neg = 1 - y_pos\n",
    "     tp = backend.sum(y_pos * y_pred_pos)\n",
    "     tn = backend.sum(y_neg * y_pred_neg)\n",
    "     fp = backend.sum(y_neg * y_pred_pos)\n",
    "     fn = backend.sum(y_pos * y_pred_neg)\n",
    "     precision = tp / (tp + fp)\n",
    "     return precision"
   ]
  },
  {
   "cell_type": "code",
   "execution_count": 3,
   "metadata": {
    "collapsed": true
   },
   "outputs": [],
   "source": [
    "#import data \n",
    "# data=pd.read_csv('/home/ramyh/Documents/ClassDeepLearning/EEGdata.csv', names=['f1':'f2049'])\n",
    "data=pd.read_csv('/home/ramyh/Documents/ClassDeepLearning/EEGData_3Classes_NoisyWhite_SNR-20.csv') # dataset including 1000 samples from each class"
   ]
  },
  {
   "cell_type": "code",
   "execution_count": 4,
   "metadata": {},
   "outputs": [
    {
     "data": {
      "text/plain": [
       "1    1000\n",
       "2    1000\n",
       "0    1000\n",
       "Name: f4097, dtype: int64"
      ]
     },
     "execution_count": 4,
     "metadata": {},
     "output_type": "execute_result"
    }
   ],
   "source": [
    "data[\"f4097\"].value_counts()"
   ]
  },
  {
   "cell_type": "code",
   "execution_count": 5,
   "metadata": {
    "collapsed": true
   },
   "outputs": [],
   "source": [
    "# shuffle the data\n",
    "data=data.iloc[np.random.permutation(len(data))]"
   ]
  },
  {
   "cell_type": "code",
   "execution_count": 6,
   "metadata": {
    "collapsed": true
   },
   "outputs": [],
   "source": [
    "# reset the data index\n",
    "data=data.reset_index(drop=True)"
   ]
  },
  {
   "cell_type": "code",
   "execution_count": 7,
   "metadata": {},
   "outputs": [
    {
     "data": {
      "text/plain": [
       "2"
      ]
     },
     "execution_count": 7,
     "metadata": {},
     "output_type": "execute_result"
    }
   ],
   "source": [
    "# Time Steps of LSTM\n",
    "data_length = 4096\n",
    "timesteps = 2048\n",
    "data_dim = data_length//timesteps\n",
    "data_dim"
   ]
  },
  {
   "cell_type": "code",
   "execution_count": 8,
   "metadata": {
    "collapsed": true
   },
   "outputs": [],
   "source": [
    "# training data\n",
    "X_train=data.loc[0:2399,data.columns != 'f4097']\n",
    "# training data.reshape\n",
    "# X_train=X_train.values.reshape([X_train.shape[0], -1, 1])\n",
    "# X_train=X_train.values.reshape([X_train.shape[0], 64, 64])\n",
    "X_train=X_train.values.reshape([X_train.shape[0], timesteps, data_dim])\n",
    "\n",
    "temp=data['f4097']\n",
    "y_train=temp[0:2400]\n",
    "# map data into arrays\n",
    "y_train=np_utils.to_categorical(y_train, num_classes=3)\n",
    "\n",
    "# test data\n",
    "X_test=data.loc[2400:2999,data.columns != 'f4097']\n",
    "\n",
    "# test data.reshape\n",
    "# X_test = X_test.values.reshape([X_test.shape[0], -1, 1])\n",
    "# X_test = X_test.values.reshape([X_test.shape[0], 64, 64])\n",
    "X_test = X_test.values.reshape([X_test.shape[0], timesteps, data_dim])\n",
    "\n",
    "y_test=temp[2400:3000]\n",
    "# map data into arrays\n",
    "y_test=np_utils.to_categorical(y_test, num_classes=3)\n",
    "\n",
    "# https://elitedatascience.com/keras-tutorial-deep-learning-in-python\n",
    "# https://faroit.github.io/keras-docs/0.3.3/examples/\n",
    "# https://machinelearningmastery.com/use-dropout-lstm-networks-time-series-forecasting/"
   ]
  },
  {
   "cell_type": "code",
   "execution_count": 9,
   "metadata": {},
   "outputs": [
    {
     "data": {
      "text/plain": [
       "(600, 2048, 2)"
      ]
     },
     "execution_count": 9,
     "metadata": {},
     "output_type": "execute_result"
    }
   ],
   "source": [
    "X_test.shape"
   ]
  },
  {
   "cell_type": "code",
   "execution_count": 10,
   "metadata": {},
   "outputs": [
    {
     "name": "stdout",
     "output_type": "stream",
     "text": [
      "_________________________________________________________________\n",
      "Layer (type)                 Output Shape              Param #   \n",
      "=================================================================\n",
      "lstm_1 (LSTM)                (None, 2048, 100)         41200     \n",
      "_________________________________________________________________\n",
      "time_distributed_1 (TimeDist (None, 2048, 50)          5050      \n",
      "_________________________________________________________________\n",
      "global_average_pooling1d_1 ( (None, 50)                0         \n",
      "_________________________________________________________________\n",
      "dense_2 (Dense)              (None, 3)                 153       \n",
      "=================================================================\n",
      "Total params: 46,403\n",
      "Trainable params: 46,403\n",
      "Non-trainable params: 0\n",
      "_________________________________________________________________\n",
      "None\n",
      "Train on 2400 samples, validate on 600 samples\n",
      "Epoch 1/40\n",
      "2400/2400 [==============================] - 562s - loss: 1.0781 - sensitivity: 0.0000e+00 - specificity: 1.0000 - acc: 0.4300 - val_loss: 1.0020 - val_sensitivity: 0.0000e+00 - val_specificity: 1.0000 - val_acc: 0.6050\n",
      "Epoch 2/40\n",
      "2400/2400 [==============================] - 552s - loss: 0.8085 - sensitivity: 0.2058 - specificity: 0.9729 - acc: 0.6467 - val_loss: 0.5929 - val_sensitivity: 0.4083 - val_specificity: 0.9617 - val_acc: 0.7633\n",
      "Epoch 3/40\n",
      "2400/2400 [==============================] - 547s - loss: 0.5461 - sensitivity: 0.5992 - specificity: 0.8873 - acc: 0.7017 - val_loss: 0.5066 - val_sensitivity: 0.6233 - val_specificity: 0.9033 - val_acc: 0.7383\n",
      "Epoch 4/40\n",
      "2400/2400 [==============================] - 544s - loss: 0.4979 - sensitivity: 0.6875 - specificity: 0.8683 - acc: 0.7183 - val_loss: 0.5050 - val_sensitivity: 0.6167 - val_specificity: 0.8117 - val_acc: 0.6233\n",
      "Epoch 5/40\n",
      "2400/2400 [==============================] - 554s - loss: 0.4762 - sensitivity: 0.7342 - specificity: 0.8729 - acc: 0.7417 - val_loss: 0.4719 - val_sensitivity: 0.6933 - val_specificity: 0.8508 - val_acc: 0.6967\n",
      "Epoch 6/40\n",
      "2400/2400 [==============================] - 548s - loss: 0.4606 - sensitivity: 0.7592 - specificity: 0.8819 - acc: 0.7633 - val_loss: 0.4565 - val_sensitivity: 0.7583 - val_specificity: 0.8792 - val_acc: 0.7583\n",
      "Epoch 7/40\n",
      "2400/2400 [==============================] - 548s - loss: 0.4840 - sensitivity: 0.7283 - specificity: 0.8675 - acc: 0.7308 - val_loss: 0.4558 - val_sensitivity: 0.7617 - val_specificity: 0.8858 - val_acc: 0.7700\n",
      "Epoch 8/40\n",
      "2400/2400 [==============================] - 548s - loss: 0.4519 - sensitivity: 0.7646 - specificity: 0.8848 - acc: 0.7675 - val_loss: 0.4372 - val_sensitivity: 0.7633 - val_specificity: 0.8858 - val_acc: 0.7700\n",
      "Epoch 9/40\n",
      "2400/2400 [==============================] - 552s - loss: 0.4516 - sensitivity: 0.7546 - specificity: 0.8785 - acc: 0.7550 - val_loss: 0.4713 - val_sensitivity: 0.7383 - val_specificity: 0.8750 - val_acc: 0.7450\n",
      "Epoch 10/40\n",
      "2400/2400 [==============================] - 545s - loss: 0.4613 - sensitivity: 0.7500 - specificity: 0.8754 - acc: 0.7508 - val_loss: 0.4338 - val_sensitivity: 0.7833 - val_specificity: 0.8933 - val_acc: 0.7850\n",
      "Epoch 11/40\n",
      "2400/2400 [==============================] - 550s - loss: 0.4340 - sensitivity: 0.7808 - specificity: 0.8915 - acc: 0.7821 - val_loss: 0.4418 - val_sensitivity: 0.7950 - val_specificity: 0.8983 - val_acc: 0.7950\n",
      "Epoch 12/40\n",
      "2400/2400 [==============================] - 546s - loss: 0.4359 - sensitivity: 0.7767 - specificity: 0.8890 - acc: 0.7771 - val_loss: 0.4285 - val_sensitivity: 0.7983 - val_specificity: 0.9000 - val_acc: 0.8000\n",
      "Epoch 13/40\n",
      "2400/2400 [==============================] - 549s - loss: 0.4344 - sensitivity: 0.7854 - specificity: 0.8933 - acc: 0.7863 - val_loss: 0.4288 - val_sensitivity: 0.8017 - val_specificity: 0.9017 - val_acc: 0.8017\n",
      "Epoch 14/40\n",
      "2400/2400 [==============================] - 545s - loss: 0.4447 - sensitivity: 0.7742 - specificity: 0.8875 - acc: 0.7746 - val_loss: 0.4291 - val_sensitivity: 0.8000 - val_specificity: 0.9017 - val_acc: 0.8033\n",
      "Epoch 15/40\n",
      "2400/2400 [==============================] - 550s - loss: 0.4323 - sensitivity: 0.7758 - specificity: 0.8888 - acc: 0.7767 - val_loss: 0.4276 - val_sensitivity: 0.7900 - val_specificity: 0.8950 - val_acc: 0.7900\n",
      "Epoch 16/40\n",
      "2400/2400 [==============================] - 553s - loss: 0.4254 - sensitivity: 0.7887 - specificity: 0.8948 - acc: 0.7892 - val_loss: 0.4356 - val_sensitivity: 0.7817 - val_specificity: 0.8917 - val_acc: 0.7833\n",
      "Epoch 17/40\n",
      "2400/2400 [==============================] - 548s - loss: 0.4277 - sensitivity: 0.7821 - specificity: 0.8915 - acc: 0.7829 - val_loss: 0.4706 - val_sensitivity: 0.7567 - val_specificity: 0.8783 - val_acc: 0.7567\n",
      "Epoch 18/40\n",
      "2400/2400 [==============================] - 548s - loss: 0.4248 - sensitivity: 0.7758 - specificity: 0.8881 - acc: 0.7758 - val_loss: 0.4276 - val_sensitivity: 0.7817 - val_specificity: 0.8908 - val_acc: 0.7817\n",
      "Epoch 19/40\n",
      "2400/2400 [==============================] - 547s - loss: 0.4331 - sensitivity: 0.7804 - specificity: 0.8902 - acc: 0.7804 - val_loss: 0.4669 - val_sensitivity: 0.7567 - val_specificity: 0.8800 - val_acc: 0.7600\n",
      "Epoch 20/40\n",
      "2400/2400 [==============================] - 549s - loss: 0.4349 - sensitivity: 0.7629 - specificity: 0.8825 - acc: 0.7638 - val_loss: 0.4553 - val_sensitivity: 0.7550 - val_specificity: 0.8783 - val_acc: 0.7567\n",
      "Epoch 21/40\n",
      "2400/2400 [==============================] - 547s - loss: 0.4366 - sensitivity: 0.7775 - specificity: 0.8896 - acc: 0.7779 - val_loss: 0.4207 - val_sensitivity: 0.7783 - val_specificity: 0.8900 - val_acc: 0.7783\n",
      "Epoch 22/40\n",
      "2400/2400 [==============================] - 548s - loss: 0.4332 - sensitivity: 0.7704 - specificity: 0.8856 - acc: 0.7712 - val_loss: 0.4321 - val_sensitivity: 0.7667 - val_specificity: 0.8842 - val_acc: 0.7683\n",
      "Epoch 23/40\n",
      "2400/2400 [==============================] - 549s - loss: 0.4386 - sensitivity: 0.7750 - specificity: 0.8883 - acc: 0.7758 - val_loss: 0.4369 - val_sensitivity: 0.7783 - val_specificity: 0.8900 - val_acc: 0.7783\n",
      "Epoch 24/40\n",
      "2400/2400 [==============================] - 544s - loss: 0.4284 - sensitivity: 0.7750 - specificity: 0.8881 - acc: 0.7758 - val_loss: 0.4328 - val_sensitivity: 0.7783 - val_specificity: 0.8900 - val_acc: 0.7783\n",
      "Epoch 25/40\n",
      "2400/2400 [==============================] - 547s - loss: 0.4315 - sensitivity: 0.7758 - specificity: 0.8885 - acc: 0.7762 - val_loss: 0.4170 - val_sensitivity: 0.7983 - val_specificity: 0.9008 - val_acc: 0.8000\n",
      "Epoch 26/40\n",
      "2400/2400 [==============================] - 547s - loss: 0.4326 - sensitivity: 0.7721 - specificity: 0.8863 - acc: 0.7721 - val_loss: 0.4508 - val_sensitivity: 0.7650 - val_specificity: 0.8825 - val_acc: 0.7650\n",
      "Epoch 27/40\n",
      "2400/2400 [==============================] - 546s - loss: 0.4416 - sensitivity: 0.7679 - specificity: 0.8848 - acc: 0.7683 - val_loss: 0.4232 - val_sensitivity: 0.8083 - val_specificity: 0.9067 - val_acc: 0.8100\n",
      "Epoch 28/40\n",
      "2400/2400 [==============================] - 545s - loss: 0.4281 - sensitivity: 0.7796 - specificity: 0.8902 - acc: 0.7800 - val_loss: 0.4289 - val_sensitivity: 0.7933 - val_specificity: 0.9000 - val_acc: 0.7950\n",
      "Epoch 29/40\n",
      "2400/2400 [==============================] - 545s - loss: 0.4228 - sensitivity: 0.7775 - specificity: 0.8888 - acc: 0.7775 - val_loss: 0.4309 - val_sensitivity: 0.7917 - val_specificity: 0.8967 - val_acc: 0.7917\n",
      "Epoch 30/40\n",
      "2400/2400 [==============================] - 548s - loss: 0.4350 - sensitivity: 0.7704 - specificity: 0.8854 - acc: 0.7708 - val_loss: 0.4750 - val_sensitivity: 0.7400 - val_specificity: 0.8700 - val_acc: 0.7400\n",
      "Epoch 31/40\n",
      "2400/2400 [==============================] - 550s - loss: 0.4264 - sensitivity: 0.7879 - specificity: 0.8946 - acc: 0.7883 - val_loss: 0.4216 - val_sensitivity: 0.8017 - val_specificity: 0.9025 - val_acc: 0.8050\n",
      "Epoch 32/40\n",
      "2400/2400 [==============================] - 540s - loss: 0.4222 - sensitivity: 0.7883 - specificity: 0.8948 - acc: 0.7896 - val_loss: 0.4401 - val_sensitivity: 0.7583 - val_specificity: 0.8792 - val_acc: 0.7583\n",
      "Epoch 33/40\n",
      "2400/2400 [==============================] - 549s - loss: 0.4320 - sensitivity: 0.7825 - specificity: 0.8919 - acc: 0.7837 - val_loss: 0.4377 - val_sensitivity: 0.7867 - val_specificity: 0.8942 - val_acc: 0.7867\n",
      "Epoch 34/40\n",
      "2400/2400 [==============================] - 545s - loss: 0.4431 - sensitivity: 0.7658 - specificity: 0.8840 - acc: 0.7679 - val_loss: 0.4156 - val_sensitivity: 0.7917 - val_specificity: 0.8958 - val_acc: 0.7917\n",
      "Epoch 35/40\n",
      "2400/2400 [==============================] - 539s - loss: 0.4371 - sensitivity: 0.7700 - specificity: 0.8854 - acc: 0.7700 - val_loss: 0.4162 - val_sensitivity: 0.7850 - val_specificity: 0.8933 - val_acc: 0.7867\n",
      "Epoch 36/40\n",
      "2400/2400 [==============================] - 547s - loss: 0.4267 - sensitivity: 0.7725 - specificity: 0.8865 - acc: 0.7729 - val_loss: 0.4280 - val_sensitivity: 0.7633 - val_specificity: 0.8817 - val_acc: 0.7633\n",
      "Epoch 37/40\n",
      "2400/2400 [==============================] - 548s - loss: 0.4319 - sensitivity: 0.7687 - specificity: 0.8852 - acc: 0.7696 - val_loss: 0.4299 - val_sensitivity: 0.7833 - val_specificity: 0.8925 - val_acc: 0.7833\n",
      "Epoch 38/40\n",
      "2400/2400 [==============================] - 546s - loss: 0.4230 - sensitivity: 0.7854 - specificity: 0.8929 - acc: 0.7854 - val_loss: 0.4153 - val_sensitivity: 0.7783 - val_specificity: 0.8892 - val_acc: 0.7783\n",
      "Epoch 39/40\n",
      "2400/2400 [==============================] - 551s - loss: 0.4166 - sensitivity: 0.7887 - specificity: 0.8948 - acc: 0.7896 - val_loss: 0.4218 - val_sensitivity: 0.7933 - val_specificity: 0.8975 - val_acc: 0.7950\n",
      "Epoch 40/40\n",
      "2400/2400 [==============================] - 463s - loss: 0.4248 - sensitivity: 0.7796 - specificity: 0.8904 - acc: 0.7804 - val_loss: 0.4201 - val_sensitivity: 0.8017 - val_specificity: 0.9008 - val_acc: 0.8017\n"
     ]
    }
   ],
   "source": [
    "# create the model\n",
    "model = Sequential()\n",
    "# model.add(LSTM(100, input_shape= (4096, 1)))\n",
    "# model.add(LSTM(100, input_shape= (64, 64)))\n",
    "# model.add(Dropout(0.1, input_shape= (timesteps, data_dim)))\n",
    "# model.add(LSTM(100, return_sequences = True))\n",
    "\n",
    "model.add(LSTM(100, input_shape= (timesteps, data_dim), return_sequences = True))\n",
    "# model.add(Dropout(0.1))\n",
    "model.add(TimeDistributed(Dense(50)))\n",
    "# model.add(GlobalMaxPooling1D())\n",
    "model.add(GlobalAveragePooling1D())\n",
    "# model.add(Flatten())\n",
    "model.add(Dense(3, activation='softmax'))\n",
    "model.compile(loss='categorical_crossentropy', optimizer='adam', metrics=[sensitivity, specificity, 'accuracy'])\n",
    "print(model.summary())\n",
    "history = model.fit(X_train, y_train, validation_data=(X_test, y_test), batch_size=64, epochs=40)"
   ]
  },
  {
   "cell_type": "code",
   "execution_count": 25,
   "metadata": {},
   "outputs": [
    {
     "data": {
      "image/png": "[encoded data removed]",
      "text/plain": [
       "<matplotlib.figure.Figure at 0x7ff548a99f28>"
      ]
     },
     "metadata": {},
     "output_type": "display_data"
    }
   ],
   "source": [
    "# Plot the sensitivity along with epochs\n",
    "plt.plot(history.history['sensitivity'], 'b')\n",
    "# plt.plot(history.history['val_sensitivity'], 'r')\n",
    "plt.title('Model Sensitivity')\n",
    "plt.ylabel('Sensitivity')\n",
    "plt.xlabel('Epoch #')\n",
    "# plt.legend(['train', 'test'], loc='upper left')\n",
    "plt.show()"
   ]
  },
  {
   "cell_type": "code",
   "execution_count": 26,
   "metadata": {},
   "outputs": [
    {
     "data": {
      "image/png": "[encoded data removed]",
      "text/plain": [
       "<matplotlib.figure.Figure at 0x7ff548a1b780>"
      ]
     },
     "metadata": {},
     "output_type": "display_data"
    }
   ],
   "source": [
    "# Plot the specificity along with epochs\n",
    "plt.plot(history.history['specificity'], 'b')\n",
    "# plt.plot(history.history['val_specificity'], 'r')\n",
    "plt.title('Model Specificity')\n",
    "plt.ylabel('Specificity')\n",
    "plt.xlabel('Epoch #')\n",
    "# plt.legend(['train', 'test'], loc='upper left')\n",
    "plt.show()"
   ]
  },
  {
   "cell_type": "code",
   "execution_count": 27,
   "metadata": {},
   "outputs": [
    {
     "data": {
      "image/png": "[encoded data removed]",
      "text/plain": [
       "<matplotlib.figure.Figure at 0x7ff548159668>"
      ]
     },
     "metadata": {},
     "output_type": "display_data"
    }
   ],
   "source": [
    "# Plot the classification accuracy along with epochs\n",
    "plt.plot(history.history['acc'], 'b')\n",
    "# plt.plot(history.history['val_acc'], 'r')\n",
    "plt.title('Model Accuracy')\n",
    "plt.ylabel('Accuracy')\n",
    "plt.xlabel('Epoch #')\n",
    "# plt.legend(['train', 'test'], loc='upper left')\n",
    "plt.show()"
   ]
  },
  {
   "cell_type": "code",
   "execution_count": 14,
   "metadata": {},
   "outputs": [
    {
     "name": "stdout",
     "output_type": "stream",
     "text": [
      "Sensitivity = 80.17%\n",
      "Specificity = 90.08%\n",
      "Classification Accuracy = 80.17%\n"
     ]
    }
   ],
   "source": [
    "# evaluate the classification accuracy\n",
    "scores = model.evaluate(X_test, y_test, verbose=0)\n",
    "print(\"Sensitivity = %.2f%%\" % (scores[1]*100))\n",
    "print(\"Specificity = %.2f%%\" % (scores[2]*100))\n",
    "print(\"Classification Accuracy = %.2f%%\" % (scores[3]*100))"
   ]
  },
  {
   "cell_type": "code",
   "execution_count": null,
   "metadata": {
    "collapsed": true
   },
   "outputs": [],
   "source": []
  }
 ],
 "metadata": {
  "kernelspec": {
   "display_name": "Python 3",
   "language": "python",
   "name": "python3"
  },
  "language_info": {
   "codemirror_mode": {
    "name": "ipython",
    "version": 3
   },
   "file_extension": ".py",
   "mimetype": "text/x-python",
   "name": "python",
   "nbconvert_exporter": "python",
   "pygments_lexer": "ipython3",
   "version": "3.6.1"
  }
 },
 "nbformat": 4,
 "nbformat_minor": 2
}

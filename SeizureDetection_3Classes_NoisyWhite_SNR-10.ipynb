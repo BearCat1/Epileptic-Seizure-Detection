{
 "cells": [
  {
   "cell_type": "code",
   "execution_count": 21,
   "metadata": {},
   "outputs": [],
   "source": [
    "# Import libraries and modules\n",
    "import numpy as np\n",
    "np.random.seed(123)  # for reproducibility\n",
    "import pandas as pd\n",
    "import seaborn as sns\n",
    "import matplotlib.pyplot as plt\n",
    "\n",
    "import keras\n",
    "from keras.models import Sequential\n",
    "from keras.layers import Dense\n",
    "from keras.layers import LSTM\n",
    "from keras.layers import Dropout\n",
    "from keras.layers import Flatten, TimeDistributed, GlobalMaxPooling1D, GlobalAveragePooling1D\n",
    "from keras.preprocessing import sequence\n",
    "from keras.utils import np_utils\n",
    "from keras import metrics\n",
    "from keras import backend\n",
    "\n",
    "%matplotlib inline"
   ]
  },
  {
   "cell_type": "code",
   "execution_count": 22,
   "metadata": {
    "collapsed": true
   },
   "outputs": [],
   "source": [
    "# Define the performance metrics of rmse, sensitivity, recall, specificity, and precision\n",
    "\n",
    "def rmse(y_true, y_pred):\n",
    "    return backend.sqrt(backend.mean(backend.square(y_pred - y_true), axis = -1))\n",
    "\n",
    "def sensitivity(y_true, y_pred):  \n",
    "     y_pred_pos = backend.round(backend.clip(y_pred, 0, 1))\n",
    "     y_pred_neg = 1 - y_pred_pos\n",
    "     y_pos = backend.round(backend.clip(y_true, 0, 1))\n",
    "     y_neg = 1 - y_pos\n",
    "     tp = backend.sum(y_pos * y_pred_pos)\n",
    "     tn = backend.sum(y_neg * y_pred_neg)\n",
    "     fp = backend.sum(y_neg * y_pred_pos)\n",
    "     fn = backend.sum(y_pos * y_pred_neg)\n",
    "     sensitivity = tp / (tp + fn)\n",
    "     return sensitivity\n",
    "\n",
    "# Recall is the same as the sensitivity\n",
    "def recall(y_true, y_pred):  \n",
    "     y_pred_pos = backend.round(backend.clip(y_pred, 0, 1))\n",
    "     y_pred_neg = 1 - y_pred_pos\n",
    "     y_pos = backend.round(backend.clip(y_true, 0, 1))\n",
    "     y_neg = 1 - y_pos\n",
    "     tp = backend.sum(y_pos * y_pred_pos)\n",
    "     tn = backend.sum(y_neg * y_pred_neg)\n",
    "     fp = backend.sum(y_neg * y_pred_pos)\n",
    "     fn = backend.sum(y_pos * y_pred_neg)\n",
    "     recall = tp / (tp + fn)\n",
    "     return recall\n",
    "\n",
    "def specificity(y_true, y_pred):  \n",
    "     y_pred_pos = backend.round(backend.clip(y_pred, 0, 1))\n",
    "     y_pred_neg = 1 - y_pred_pos\n",
    "     y_pos = backend.round(backend.clip(y_true, 0, 1))\n",
    "     y_neg = 1 - y_pos\n",
    "     tp = backend.sum(y_pos * y_pred_pos)\n",
    "     tn = backend.sum(y_neg * y_pred_neg)\n",
    "     fp = backend.sum(y_neg * y_pred_pos)\n",
    "     fn = backend.sum(y_pos * y_pred_neg)\n",
    "     specificity = tn / (tn + fp)\n",
    "     return specificity\n",
    "\n",
    "\n",
    "def precision(y_true, y_pred):  \n",
    "     y_pred_pos = backend.round(backend.clip(y_pred, 0, 1))\n",
    "     y_pred_neg = 1 - y_pred_pos\n",
    "     y_pos = backend.round(backend.clip(y_true, 0, 1))\n",
    "     y_neg = 1 - y_pos\n",
    "     tp = backend.sum(y_pos * y_pred_pos)\n",
    "     tn = backend.sum(y_neg * y_pred_neg)\n",
    "     fp = backend.sum(y_neg * y_pred_pos)\n",
    "     fn = backend.sum(y_pos * y_pred_neg)\n",
    "     precision = tp / (tp + fp)\n",
    "     return precision"
   ]
  },
  {
   "cell_type": "code",
   "execution_count": 23,
   "metadata": {
    "collapsed": true
   },
   "outputs": [],
   "source": [
    "#import data \n",
    "# data=pd.read_csv('/home/ramyh/Documents/ClassDeepLearning/EEGdata.csv', names=['f1':'f2049'])\n",
    "data=pd.read_csv('/home/ramyh/Documents/ClassDeepLearning/EEGData_3Classes_NoisyWhite_SNR-10.csv') # dataset including 1000 samples from each class"
   ]
  },
  {
   "cell_type": "code",
   "execution_count": 24,
   "metadata": {},
   "outputs": [
    {
     "data": {
      "text/plain": [
       "1    1000\n",
       "2    1000\n",
       "0    1000\n",
       "Name: f4097, dtype: int64"
      ]
     },
     "execution_count": 24,
     "metadata": {},
     "output_type": "execute_result"
    }
   ],
   "source": [
    "data[\"f4097\"].value_counts()"
   ]
  },
  {
   "cell_type": "code",
   "execution_count": 25,
   "metadata": {
    "collapsed": true
   },
   "outputs": [],
   "source": [
    "# shuffle the data\n",
    "data=data.iloc[np.random.permutation(len(data))]"
   ]
  },
  {
   "cell_type": "code",
   "execution_count": 26,
   "metadata": {
    "collapsed": true
   },
   "outputs": [],
   "source": [
    "# reset the data index\n",
    "data=data.reset_index(drop=True)"
   ]
  },
  {
   "cell_type": "code",
   "execution_count": 27,
   "metadata": {},
   "outputs": [
    {
     "data": {
      "text/plain": [
       "2"
      ]
     },
     "execution_count": 27,
     "metadata": {},
     "output_type": "execute_result"
    }
   ],
   "source": [
    "# Time Steps of LSTM\n",
    "data_length = 4096\n",
    "timesteps = 2048\n",
    "data_dim = data_length//timesteps\n",
    "data_dim"
   ]
  },
  {
   "cell_type": "code",
   "execution_count": 28,
   "metadata": {
    "collapsed": true
   },
   "outputs": [],
   "source": [
    "# training data\n",
    "X_train=data.loc[0:2399,data.columns != 'f4097']\n",
    "# training data.reshape\n",
    "# X_train=X_train.values.reshape([X_train.shape[0], -1, 1])\n",
    "# X_train=X_train.values.reshape([X_train.shape[0], 64, 64])\n",
    "X_train=X_train.values.reshape([X_train.shape[0], timesteps, data_dim])\n",
    "\n",
    "temp=data['f4097']\n",
    "y_train=temp[0:2400]\n",
    "# map data into arrays\n",
    "y_train=np_utils.to_categorical(y_train, num_classes=3)\n",
    "\n",
    "# test data\n",
    "X_test=data.loc[2400:2999,data.columns != 'f4097']\n",
    "\n",
    "# test data.reshape\n",
    "# X_test = X_test.values.reshape([X_test.shape[0], -1, 1])\n",
    "# X_test = X_test.values.reshape([X_test.shape[0], 64, 64])\n",
    "X_test = X_test.values.reshape([X_test.shape[0], timesteps, data_dim])\n",
    "\n",
    "y_test=temp[2400:3000]\n",
    "# map data into arrays\n",
    "y_test=np_utils.to_categorical(y_test, num_classes=3)\n",
    "\n",
    "# https://elitedatascience.com/keras-tutorial-deep-learning-in-python\n",
    "# https://faroit.github.io/keras-docs/0.3.3/examples/\n",
    "# https://machinelearningmastery.com/use-dropout-lstm-networks-time-series-forecasting/"
   ]
  },
  {
   "cell_type": "code",
   "execution_count": 29,
   "metadata": {},
   "outputs": [
    {
     "data": {
      "text/plain": [
       "(600, 2048, 2)"
      ]
     },
     "execution_count": 29,
     "metadata": {},
     "output_type": "execute_result"
    }
   ],
   "source": [
    "X_test.shape"
   ]
  },
  {
   "cell_type": "code",
   "execution_count": 30,
   "metadata": {},
   "outputs": [
    {
     "name": "stdout",
     "output_type": "stream",
     "text": [
      "_________________________________________________________________\n",
      "Layer (type)                 Output Shape              Param #   \n",
      "=================================================================\n",
      "lstm_2 (LSTM)                (None, 2048, 100)         41200     \n",
      "_________________________________________________________________\n",
      "time_distributed_2 (TimeDist (None, 2048, 50)          5050      \n",
      "_________________________________________________________________\n",
      "global_average_pooling1d_2 ( (None, 50)                0         \n",
      "_________________________________________________________________\n",
      "dense_4 (Dense)              (None, 3)                 153       \n",
      "=================================================================\n",
      "Total params: 46,403\n",
      "Trainable params: 46,403\n",
      "Non-trainable params: 0\n",
      "_________________________________________________________________\n",
      "None\n",
      "Train on 2400 samples, validate on 600 samples\n",
      "Epoch 1/40\n",
      "2400/2400 [==============================] - 239s - loss: 0.9730 - sensitivity: 0.1100 - specificity: 0.9946 - acc: 0.5121 - val_loss: 0.7602 - val_sensitivity: 0.3400 - val_specificity: 0.9683 - val_acc: 0.6833\n",
      "Epoch 2/40\n",
      "2400/2400 [==============================] - 243s - loss: 0.5878 - sensitivity: 0.5375 - specificity: 0.9075 - acc: 0.6963 - val_loss: 0.4846 - val_sensitivity: 0.7283 - val_specificity: 0.8892 - val_acc: 0.7550\n",
      "Epoch 3/40\n",
      "2400/2400 [==============================] - 243s - loss: 0.4733 - sensitivity: 0.7192 - specificity: 0.8733 - acc: 0.7321 - val_loss: 0.4559 - val_sensitivity: 0.7533 - val_specificity: 0.8800 - val_acc: 0.7567\n",
      "Epoch 4/40\n",
      "2400/2400 [==============================] - 244s - loss: 0.4506 - sensitivity: 0.7517 - specificity: 0.8779 - acc: 0.7546 - val_loss: 0.4207 - val_sensitivity: 0.8000 - val_specificity: 0.9008 - val_acc: 0.8000\n",
      "Epoch 5/40\n",
      "2400/2400 [==============================] - 244s - loss: 0.4324 - sensitivity: 0.7829 - specificity: 0.8923 - acc: 0.7837 - val_loss: 0.4113 - val_sensitivity: 0.7983 - val_specificity: 0.9017 - val_acc: 0.8017\n",
      "Epoch 6/40\n",
      "2400/2400 [==============================] - 245s - loss: 0.4140 - sensitivity: 0.7846 - specificity: 0.8933 - acc: 0.7854 - val_loss: 0.3951 - val_sensitivity: 0.7983 - val_specificity: 0.9008 - val_acc: 0.8017\n",
      "Epoch 7/40\n",
      "2400/2400 [==============================] - 245s - loss: 0.4180 - sensitivity: 0.7879 - specificity: 0.8948 - acc: 0.7883 - val_loss: 0.4014 - val_sensitivity: 0.7933 - val_specificity: 0.8975 - val_acc: 0.7950\n",
      "Epoch 8/40\n",
      "2400/2400 [==============================] - 245s - loss: 0.4043 - sensitivity: 0.7942 - specificity: 0.8975 - acc: 0.7942 - val_loss: 0.3965 - val_sensitivity: 0.8050 - val_specificity: 0.9042 - val_acc: 0.8083\n",
      "Epoch 9/40\n",
      "2400/2400 [==============================] - 244s - loss: 0.3894 - sensitivity: 0.7992 - specificity: 0.9002 - acc: 0.7996 - val_loss: 0.3957 - val_sensitivity: 0.7900 - val_specificity: 0.8950 - val_acc: 0.7900\n",
      "Epoch 10/40\n",
      "2400/2400 [==============================] - 244s - loss: 0.3852 - sensitivity: 0.8075 - specificity: 0.9040 - acc: 0.8079 - val_loss: 0.3799 - val_sensitivity: 0.8033 - val_specificity: 0.9033 - val_acc: 0.8050\n",
      "Epoch 11/40\n",
      "2400/2400 [==============================] - 244s - loss: 0.3695 - sensitivity: 0.8075 - specificity: 0.9038 - acc: 0.8075 - val_loss: 0.3934 - val_sensitivity: 0.7900 - val_specificity: 0.8950 - val_acc: 0.7900\n",
      "Epoch 12/40\n",
      "2400/2400 [==============================] - 245s - loss: 0.3723 - sensitivity: 0.8175 - specificity: 0.9096 - acc: 0.8183 - val_loss: 0.3906 - val_sensitivity: 0.7950 - val_specificity: 0.8983 - val_acc: 0.7950\n",
      "Epoch 13/40\n",
      "2400/2400 [==============================] - 243s - loss: 0.3640 - sensitivity: 0.8183 - specificity: 0.9094 - acc: 0.8183 - val_loss: 0.3706 - val_sensitivity: 0.8083 - val_specificity: 0.9042 - val_acc: 0.8083\n",
      "Epoch 14/40\n",
      "2400/2400 [==============================] - 245s - loss: 0.3815 - sensitivity: 0.8113 - specificity: 0.9058 - acc: 0.8113 - val_loss: 0.3834 - val_sensitivity: 0.8067 - val_specificity: 0.9042 - val_acc: 0.8083\n",
      "Epoch 15/40\n",
      "2400/2400 [==============================] - 250s - loss: 0.3604 - sensitivity: 0.8208 - specificity: 0.9108 - acc: 0.8217 - val_loss: 0.3605 - val_sensitivity: 0.8200 - val_specificity: 0.9100 - val_acc: 0.8200\n",
      "Epoch 16/40\n",
      "2400/2400 [==============================] - 246s - loss: 0.3538 - sensitivity: 0.8217 - specificity: 0.9123 - acc: 0.8233 - val_loss: 0.3627 - val_sensitivity: 0.8267 - val_specificity: 0.9133 - val_acc: 0.8267\n",
      "Epoch 17/40\n",
      "2400/2400 [==============================] - 245s - loss: 0.3438 - sensitivity: 0.8317 - specificity: 0.9165 - acc: 0.8321 - val_loss: 0.3616 - val_sensitivity: 0.8150 - val_specificity: 0.9075 - val_acc: 0.8150\n",
      "Epoch 18/40\n",
      "2400/2400 [==============================] - 248s - loss: 0.3249 - sensitivity: 0.8404 - specificity: 0.9210 - acc: 0.8413 - val_loss: 0.4468 - val_sensitivity: 0.7450 - val_specificity: 0.8733 - val_acc: 0.7467\n",
      "Epoch 19/40\n",
      "2400/2400 [==============================] - 244s - loss: 0.3570 - sensitivity: 0.8237 - specificity: 0.9123 - acc: 0.8242 - val_loss: 0.3458 - val_sensitivity: 0.8167 - val_specificity: 0.9083 - val_acc: 0.8167\n",
      "Epoch 20/40\n",
      "2400/2400 [==============================] - 244s - loss: 0.3196 - sensitivity: 0.8429 - specificity: 0.9219 - acc: 0.8438 - val_loss: 0.3313 - val_sensitivity: 0.8200 - val_specificity: 0.9100 - val_acc: 0.8200\n",
      "Epoch 21/40\n",
      "2400/2400 [==============================] - 245s - loss: 0.3165 - sensitivity: 0.8521 - specificity: 0.9262 - acc: 0.8525 - val_loss: 0.3411 - val_sensitivity: 0.8267 - val_specificity: 0.9142 - val_acc: 0.8283\n",
      "Epoch 22/40\n",
      "2400/2400 [==============================] - 245s - loss: 0.3488 - sensitivity: 0.8292 - specificity: 0.9150 - acc: 0.8292 - val_loss: 0.3553 - val_sensitivity: 0.8100 - val_specificity: 0.9058 - val_acc: 0.8100\n",
      "Epoch 23/40\n",
      "2400/2400 [==============================] - 245s - loss: 0.3551 - sensitivity: 0.8179 - specificity: 0.9090 - acc: 0.8179 - val_loss: 0.3431 - val_sensitivity: 0.8250 - val_specificity: 0.9133 - val_acc: 0.8250\n",
      "Epoch 24/40\n",
      "2400/2400 [==============================] - 245s - loss: 0.3150 - sensitivity: 0.8496 - specificity: 0.9250 - acc: 0.8496 - val_loss: 0.3441 - val_sensitivity: 0.8283 - val_specificity: 0.9158 - val_acc: 0.8317\n",
      "Epoch 25/40\n",
      "2400/2400 [==============================] - 246s - loss: 0.3163 - sensitivity: 0.8533 - specificity: 0.9267 - acc: 0.8533 - val_loss: 0.3333 - val_sensitivity: 0.8283 - val_specificity: 0.9150 - val_acc: 0.8300\n",
      "Epoch 26/40\n",
      "2400/2400 [==============================] - 245s - loss: 0.3081 - sensitivity: 0.8533 - specificity: 0.9273 - acc: 0.8542 - val_loss: 0.3291 - val_sensitivity: 0.8417 - val_specificity: 0.9208 - val_acc: 0.8417\n",
      "Epoch 27/40\n",
      "2400/2400 [==============================] - 243s - loss: 0.2901 - sensitivity: 0.8650 - specificity: 0.9325 - acc: 0.8650 - val_loss: 0.3447 - val_sensitivity: 0.8200 - val_specificity: 0.9108 - val_acc: 0.8217\n",
      "Epoch 28/40\n",
      "2400/2400 [==============================] - 244s - loss: 0.2901 - sensitivity: 0.8633 - specificity: 0.9321 - acc: 0.8637 - val_loss: 0.3412 - val_sensitivity: 0.8183 - val_specificity: 0.9108 - val_acc: 0.8183\n",
      "Epoch 29/40\n",
      "2400/2400 [==============================] - 253s - loss: 0.2952 - sensitivity: 0.8646 - specificity: 0.9323 - acc: 0.8646 - val_loss: 0.3233 - val_sensitivity: 0.8283 - val_specificity: 0.9142 - val_acc: 0.8283\n",
      "Epoch 30/40\n",
      "2400/2400 [==============================] - 262s - loss: 0.2820 - sensitivity: 0.8717 - specificity: 0.9365 - acc: 0.8721 - val_loss: 0.3158 - val_sensitivity: 0.8333 - val_specificity: 0.9167 - val_acc: 0.8333\n",
      "Epoch 31/40\n",
      "2400/2400 [==============================] - 261s - loss: 0.2831 - sensitivity: 0.8662 - specificity: 0.9333 - acc: 0.8662 - val_loss: 0.3634 - val_sensitivity: 0.8467 - val_specificity: 0.9250 - val_acc: 0.8467\n",
      "Epoch 32/40\n",
      "2400/2400 [==============================] - 259s - loss: 0.2980 - sensitivity: 0.8654 - specificity: 0.9333 - acc: 0.8654 - val_loss: 0.3190 - val_sensitivity: 0.8483 - val_specificity: 0.9242 - val_acc: 0.8483\n",
      "Epoch 33/40\n"
     ]
    },
    {
     "name": "stdout",
     "output_type": "stream",
     "text": [
      "2400/2400 [==============================] - 247s - loss: 0.2690 - sensitivity: 0.8796 - specificity: 0.9398 - acc: 0.8796 - val_loss: 0.3198 - val_sensitivity: 0.8267 - val_specificity: 0.9158 - val_acc: 0.8283\n",
      "Epoch 34/40\n",
      "2400/2400 [==============================] - 249s - loss: 0.2752 - sensitivity: 0.8721 - specificity: 0.9363 - acc: 0.8725 - val_loss: 0.3430 - val_sensitivity: 0.8183 - val_specificity: 0.9092 - val_acc: 0.8183\n",
      "Epoch 35/40\n",
      "2400/2400 [==============================] - 247s - loss: 0.2751 - sensitivity: 0.8779 - specificity: 0.9392 - acc: 0.8779 - val_loss: 0.3131 - val_sensitivity: 0.8417 - val_specificity: 0.9208 - val_acc: 0.8417\n",
      "Epoch 36/40\n",
      "2400/2400 [==============================] - 253s - loss: 0.2976 - sensitivity: 0.8654 - specificity: 0.9327 - acc: 0.8654 - val_loss: 0.3287 - val_sensitivity: 0.8200 - val_specificity: 0.9100 - val_acc: 0.8200\n",
      "Epoch 37/40\n",
      "2400/2400 [==============================] - 245s - loss: 0.2774 - sensitivity: 0.8783 - specificity: 0.9396 - acc: 0.8787 - val_loss: 0.3298 - val_sensitivity: 0.8567 - val_specificity: 0.9292 - val_acc: 0.8583\n",
      "Epoch 38/40\n",
      "2400/2400 [==============================] - 246s - loss: 0.2752 - sensitivity: 0.8775 - specificity: 0.9394 - acc: 0.8779 - val_loss: 0.3080 - val_sensitivity: 0.8517 - val_specificity: 0.9258 - val_acc: 0.8517\n",
      "Epoch 39/40\n",
      "2400/2400 [==============================] - 244s - loss: 0.2573 - sensitivity: 0.8858 - specificity: 0.9429 - acc: 0.8858 - val_loss: 0.3243 - val_sensitivity: 0.8383 - val_specificity: 0.9192 - val_acc: 0.8383\n",
      "Epoch 40/40\n",
      "2400/2400 [==============================] - 244s - loss: 0.2513 - sensitivity: 0.8933 - specificity: 0.9469 - acc: 0.8933 - val_loss: 0.3213 - val_sensitivity: 0.8350 - val_specificity: 0.9175 - val_acc: 0.8350\n"
     ]
    }
   ],
   "source": [
    "# create the model\n",
    "model = Sequential()\n",
    "# model.add(LSTM(100, input_shape= (4096, 1)))\n",
    "# model.add(LSTM(100, input_shape= (64, 64)))\n",
    "# model.add(Dropout(0.1, input_shape= (timesteps, data_dim)))\n",
    "# model.add(LSTM(100, return_sequences = True))\n",
    "\n",
    "model.add(LSTM(100, input_shape= (timesteps, data_dim), return_sequences = True))\n",
    "# model.add(Dropout(0.1))\n",
    "model.add(TimeDistributed(Dense(50)))\n",
    "# model.add(GlobalMaxPooling1D())\n",
    "model.add(GlobalAveragePooling1D())\n",
    "# model.add(Flatten())\n",
    "model.add(Dense(3, activation='softmax'))\n",
    "model.compile(loss='categorical_crossentropy', optimizer='adam', metrics=[sensitivity, specificity, 'accuracy'])\n",
    "print(model.summary())\n",
    "history = model.fit(X_train, y_train, validation_data=(X_test, y_test), batch_size=64, epochs=40)"
   ]
  },
  {
   "cell_type": "code",
   "execution_count": 31,
   "metadata": {},
   "outputs": [
    {
     "data": {
      "image/png": "[encoded data removed]",
      "text/plain": [
       "<matplotlib.figure.Figure at 0x7f1017358550>"
      ]
     },
     "metadata": {},
     "output_type": "display_data"
    }
   ],
   "source": [
    "# Plot the sensitivity along with epochs\n",
    "plt.plot(history.history['sensitivity'], 'g--')\n",
    "plt.title('Model Sensitivity')\n",
    "plt.ylabel('Sensitivity')\n",
    "plt.xlabel('Epoch #')\n",
    "plt.show()"
   ]
  },
  {
   "cell_type": "code",
   "execution_count": 32,
   "metadata": {},
   "outputs": [
    {
     "data": {
      "image/png": "[encoded data removed]",
      "text/plain": [
       "<matplotlib.figure.Figure at 0x7f1017358438>"
      ]
     },
     "metadata": {},
     "output_type": "display_data"
    }
   ],
   "source": [
    "# Plot the specificity along with epochs\n",
    "plt.plot(history.history['specificity'], 'b--')\n",
    "plt.title('Model Specificity')\n",
    "plt.ylabel('Specificity')\n",
    "plt.xlabel('Epoch #')\n",
    "plt.show()"
   ]
  },
  {
   "cell_type": "code",
   "execution_count": 33,
   "metadata": {},
   "outputs": [
    {
     "data": {
      "image/png": "[encoded data removed]",
      "text/plain": [
       "<matplotlib.figure.Figure at 0x7f1022a0c9b0>"
      ]
     },
     "metadata": {},
     "output_type": "display_data"
    }
   ],
   "source": [
    "# Plot the classification accuracy along with epochs\n",
    "plt.plot(history.history['acc'], 'r--')\n",
    "plt.title('Model Accuracy')\n",
    "plt.ylabel('Accuracy')\n",
    "plt.xlabel('Epoch #')\n",
    "plt.show()"
   ]
  },
  {
   "cell_type": "code",
   "execution_count": 34,
   "metadata": {},
   "outputs": [
    {
     "name": "stdout",
     "output_type": "stream",
     "text": [
      "Sensitivity = 83.50%\n",
      "Specificity = 91.75%\n",
      "Classification Accuracy = 83.50%\n"
     ]
    }
   ],
   "source": [
    "# evaluate the classification accuracy\n",
    "scores = model.evaluate(X_test, y_test, verbose=0)\n",
    "print(\"Sensitivity = %.2f%%\" % (scores[1]*100))\n",
    "print(\"Specificity = %.2f%%\" % (scores[2]*100))\n",
    "print(\"Classification Accuracy = %.2f%%\" % (scores[3]*100))"
   ]
  },
  {
   "cell_type": "code",
   "execution_count": null,
   "metadata": {
    "collapsed": true
   },
   "outputs": [],
   "source": []
  }
 ],
 "metadata": {
  "kernelspec": {
   "display_name": "Python 3",
   "language": "python",
   "name": "python3"
  },
  "language_info": {
   "codemirror_mode": {
    "name": "ipython",
    "version": 3
   },
   "file_extension": ".py",
   "mimetype": "text/x-python",
   "name": "python",
   "nbconvert_exporter": "python",
   "pygments_lexer": "ipython3",
   "version": "3.6.1"
  }
 },
 "nbformat": 4,
 "nbformat_minor": 2
}

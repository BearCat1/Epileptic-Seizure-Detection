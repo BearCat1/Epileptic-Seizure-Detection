{
 "cells": [
  {
   "cell_type": "code",
   "execution_count": 1,
   "metadata": {},
   "outputs": [
    {
     "name": "stderr",
     "output_type": "stream",
     "text": [
      "Using TensorFlow backend.\n"
     ]
    }
   ],
   "source": [
    "# Import libraries and modules\n",
    "import numpy as np\n",
    "np.random.seed(123)  # for reproducibility\n",
    "import pandas as pd\n",
    "import seaborn as sns\n",
    "import matplotlib.pyplot as plt\n",
    "\n",
    "import keras\n",
    "from keras.models import Sequential\n",
    "from keras.layers import Dense\n",
    "from keras.layers import LSTM\n",
    "from keras.layers import Dropout\n",
    "from keras.layers import Flatten, TimeDistributed, GlobalMaxPooling1D, GlobalAveragePooling1D\n",
    "from keras.preprocessing import sequence\n",
    "from keras.utils import np_utils\n",
    "from keras import metrics\n",
    "from keras import backend\n",
    "\n",
    "%matplotlib inline"
   ]
  },
  {
   "cell_type": "code",
   "execution_count": 2,
   "metadata": {
    "collapsed": true
   },
   "outputs": [],
   "source": [
    "# Define the performance metrics of rmse, sensitivity, recall, specificity, and precision\n",
    "\n",
    "def rmse(y_true, y_pred):\n",
    "    return backend.sqrt(backend.mean(backend.square(y_pred - y_true), axis = -1))\n",
    "\n",
    "def sensitivity(y_true, y_pred):  \n",
    "     y_pred_pos = backend.round(backend.clip(y_pred, 0, 1))\n",
    "     y_pred_neg = 1 - y_pred_pos\n",
    "     y_pos = backend.round(backend.clip(y_true, 0, 1))\n",
    "     y_neg = 1 - y_pos\n",
    "     tp = backend.sum(y_pos * y_pred_pos)\n",
    "     tn = backend.sum(y_neg * y_pred_neg)\n",
    "     fp = backend.sum(y_neg * y_pred_pos)\n",
    "     fn = backend.sum(y_pos * y_pred_neg)\n",
    "     sensitivity = tp / (tp + fn)\n",
    "     return sensitivity\n",
    "\n",
    "# Recall is the same as the sensitivity\n",
    "def recall(y_true, y_pred):  \n",
    "     y_pred_pos = backend.round(backend.clip(y_pred, 0, 1))\n",
    "     y_pred_neg = 1 - y_pred_pos\n",
    "     y_pos = backend.round(backend.clip(y_true, 0, 1))\n",
    "     y_neg = 1 - y_pos\n",
    "     tp = backend.sum(y_pos * y_pred_pos)\n",
    "     tn = backend.sum(y_neg * y_pred_neg)\n",
    "     fp = backend.sum(y_neg * y_pred_pos)\n",
    "     fn = backend.sum(y_pos * y_pred_neg)\n",
    "     recall = tp / (tp + fn)\n",
    "     return recall\n",
    "\n",
    "def specificity(y_true, y_pred):  \n",
    "     y_pred_pos = backend.round(backend.clip(y_pred, 0, 1))\n",
    "     y_pred_neg = 1 - y_pred_pos\n",
    "     y_pos = backend.round(backend.clip(y_true, 0, 1))\n",
    "     y_neg = 1 - y_pos\n",
    "     tp = backend.sum(y_pos * y_pred_pos)\n",
    "     tn = backend.sum(y_neg * y_pred_neg)\n",
    "     fp = backend.sum(y_neg * y_pred_pos)\n",
    "     fn = backend.sum(y_pos * y_pred_neg)\n",
    "     specificity = tn / (tn + fp)\n",
    "     return specificity\n",
    "\n",
    "\n",
    "def precision(y_true, y_pred):  \n",
    "     y_pred_pos = backend.round(backend.clip(y_pred, 0, 1))\n",
    "     y_pred_neg = 1 - y_pred_pos\n",
    "     y_pos = backend.round(backend.clip(y_true, 0, 1))\n",
    "     y_neg = 1 - y_pos\n",
    "     tp = backend.sum(y_pos * y_pred_pos)\n",
    "     tn = backend.sum(y_neg * y_pred_neg)\n",
    "     fp = backend.sum(y_neg * y_pred_pos)\n",
    "     fn = backend.sum(y_pos * y_pred_neg)\n",
    "     precision = tp / (tp + fp)\n",
    "     return precision"
   ]
  },
  {
   "cell_type": "code",
   "execution_count": 3,
   "metadata": {
    "collapsed": true
   },
   "outputs": [],
   "source": [
    "#import data \n",
    "# data=pd.read_csv('/home/ramyh/Documents/ClassDeepLearning/EEGdata.csv', names=['f1':'f2049'])\n",
    "data=pd.read_csv('/home/ramyh/Documents/ClassDeepLearning/EEGData_3Classes_NoisyWhite_SNR+15.csv') # dataset including 1000 samples from each class"
   ]
  },
  {
   "cell_type": "code",
   "execution_count": 4,
   "metadata": {},
   "outputs": [
    {
     "data": {
      "text/plain": [
       "1    1000\n",
       "2    1000\n",
       "0    1000\n",
       "Name: f4097, dtype: int64"
      ]
     },
     "execution_count": 4,
     "metadata": {},
     "output_type": "execute_result"
    }
   ],
   "source": [
    "data[\"f4097\"].value_counts()"
   ]
  },
  {
   "cell_type": "code",
   "execution_count": 5,
   "metadata": {
    "collapsed": true
   },
   "outputs": [],
   "source": [
    "# shuffle the data\n",
    "data=data.iloc[np.random.permutation(len(data))]"
   ]
  },
  {
   "cell_type": "code",
   "execution_count": 6,
   "metadata": {
    "collapsed": true
   },
   "outputs": [],
   "source": [
    "# reset the data index\n",
    "data=data.reset_index(drop=True)"
   ]
  },
  {
   "cell_type": "code",
   "execution_count": 7,
   "metadata": {},
   "outputs": [
    {
     "data": {
      "text/plain": [
       "2"
      ]
     },
     "execution_count": 7,
     "metadata": {},
     "output_type": "execute_result"
    }
   ],
   "source": [
    "# Time Steps of LSTM\n",
    "data_length = 4096\n",
    "timesteps = 2048\n",
    "data_dim = data_length//timesteps\n",
    "data_dim"
   ]
  },
  {
   "cell_type": "code",
   "execution_count": 8,
   "metadata": {
    "collapsed": true
   },
   "outputs": [],
   "source": [
    "# training data\n",
    "X_train=data.loc[0:2399,data.columns != 'f4097']\n",
    "# training data.reshape\n",
    "# X_train=X_train.values.reshape([X_train.shape[0], -1, 1])\n",
    "# X_train=X_train.values.reshape([X_train.shape[0], 64, 64])\n",
    "X_train=X_train.values.reshape([X_train.shape[0], timesteps, data_dim])\n",
    "\n",
    "temp=data['f4097']\n",
    "y_train=temp[0:2400]\n",
    "# map data into arrays\n",
    "y_train=np_utils.to_categorical(y_train, num_classes=3)\n",
    "\n",
    "# test data\n",
    "X_test=data.loc[2400:2999,data.columns != 'f4097']\n",
    "\n",
    "# test data.reshape\n",
    "# X_test = X_test.values.reshape([X_test.shape[0], -1, 1])\n",
    "# X_test = X_test.values.reshape([X_test.shape[0], 64, 64])\n",
    "X_test = X_test.values.reshape([X_test.shape[0], timesteps, data_dim])\n",
    "\n",
    "y_test=temp[2400:3000]\n",
    "# map data into arrays\n",
    "y_test=np_utils.to_categorical(y_test, num_classes=3)\n",
    "\n",
    "# https://elitedatascience.com/keras-tutorial-deep-learning-in-python\n",
    "# https://faroit.github.io/keras-docs/0.3.3/examples/\n",
    "# https://machinelearningmastery.com/use-dropout-lstm-networks-time-series-forecasting/"
   ]
  },
  {
   "cell_type": "code",
   "execution_count": 9,
   "metadata": {},
   "outputs": [
    {
     "data": {
      "text/plain": [
       "(600, 2048, 2)"
      ]
     },
     "execution_count": 9,
     "metadata": {},
     "output_type": "execute_result"
    }
   ],
   "source": [
    "X_test.shape"
   ]
  },
  {
   "cell_type": "code",
   "execution_count": 10,
   "metadata": {},
   "outputs": [
    {
     "name": "stdout",
     "output_type": "stream",
     "text": [
      "_________________________________________________________________\n",
      "Layer (type)                 Output Shape              Param #   \n",
      "=================================================================\n",
      "lstm_1 (LSTM)                (None, 2048, 100)         41200     \n",
      "_________________________________________________________________\n",
      "time_distributed_1 (TimeDist (None, 2048, 50)          5050      \n",
      "_________________________________________________________________\n",
      "global_average_pooling1d_1 ( (None, 50)                0         \n",
      "_________________________________________________________________\n",
      "dense_2 (Dense)              (None, 3)                 153       \n",
      "=================================================================\n",
      "Total params: 46,403\n",
      "Trainable params: 46,403\n",
      "Non-trainable params: 0\n",
      "_________________________________________________________________\n",
      "None\n",
      "Train on 2400 samples, validate on 600 samples\n",
      "Epoch 1/40\n",
      "2400/2400 [==============================] - 514s - loss: 0.6710 - sensitivity: 0.4921 - specificity: 0.9429 - acc: 0.6942 - val_loss: 0.4236 - val_sensitivity: 0.8350 - val_specificity: 0.9425 - val_acc: 0.8617\n",
      "Epoch 2/40\n",
      "2400/2400 [==============================] - 554s - loss: 0.3454 - sensitivity: 0.8700 - specificity: 0.9477 - acc: 0.8825 - val_loss: 0.2363 - val_sensitivity: 0.9250 - val_specificity: 0.9625 - val_acc: 0.9250\n",
      "Epoch 3/40\n",
      "2400/2400 [==============================] - 549s - loss: 0.1544 - sensitivity: 0.9463 - specificity: 0.9750 - acc: 0.9475 - val_loss: 0.0999 - val_sensitivity: 0.9683 - val_specificity: 0.9842 - val_acc: 0.9683\n",
      "Epoch 4/40\n",
      "2400/2400 [==============================] - 559s - loss: 0.1214 - sensitivity: 0.9571 - specificity: 0.9788 - acc: 0.9571 - val_loss: 0.0938 - val_sensitivity: 0.9550 - val_specificity: 0.9783 - val_acc: 0.9567\n",
      "Epoch 5/40\n",
      "2400/2400 [==============================] - 551s - loss: 0.0877 - sensitivity: 0.9700 - specificity: 0.9852 - acc: 0.9704 - val_loss: 0.0760 - val_sensitivity: 0.9817 - val_specificity: 0.9908 - val_acc: 0.9817\n",
      "Epoch 6/40\n",
      "2400/2400 [==============================] - 549s - loss: 0.1654 - sensitivity: 0.9533 - specificity: 0.9773 - acc: 0.9542 - val_loss: 0.0846 - val_sensitivity: 0.9800 - val_specificity: 0.9917 - val_acc: 0.9817\n",
      "Epoch 7/40\n",
      "2400/2400 [==============================] - 544s - loss: 0.0992 - sensitivity: 0.9688 - specificity: 0.9846 - acc: 0.9692 - val_loss: 0.0658 - val_sensitivity: 0.9833 - val_specificity: 0.9925 - val_acc: 0.9833\n",
      "Epoch 8/40\n",
      "2400/2400 [==============================] - 549s - loss: 0.0743 - sensitivity: 0.9708 - specificity: 0.9856 - acc: 0.9712 - val_loss: 0.0544 - val_sensitivity: 0.9833 - val_specificity: 0.9925 - val_acc: 0.9850\n",
      "Epoch 9/40\n",
      "2400/2400 [==============================] - 548s - loss: 0.1081 - sensitivity: 0.9613 - specificity: 0.9808 - acc: 0.9617 - val_loss: 0.0812 - val_sensitivity: 0.9800 - val_specificity: 0.9908 - val_acc: 0.9817\n",
      "Epoch 10/40\n",
      "2400/2400 [==============================] - 556s - loss: 0.0648 - sensitivity: 0.9796 - specificity: 0.9904 - acc: 0.9808 - val_loss: 0.0731 - val_sensitivity: 0.9817 - val_specificity: 0.9908 - val_acc: 0.9817\n",
      "Epoch 11/40\n",
      "2400/2400 [==============================] - 553s - loss: 0.0562 - sensitivity: 0.9771 - specificity: 0.9885 - acc: 0.9771 - val_loss: 0.0709 - val_sensitivity: 0.9850 - val_specificity: 0.9925 - val_acc: 0.9850\n",
      "Epoch 12/40\n",
      "2400/2400 [==============================] - 551s - loss: 0.0568 - sensitivity: 0.9813 - specificity: 0.9908 - acc: 0.9817 - val_loss: 0.0729 - val_sensitivity: 0.9817 - val_specificity: 0.9908 - val_acc: 0.9817\n",
      "Epoch 13/40\n",
      "2400/2400 [==============================] - 545s - loss: 0.0662 - sensitivity: 0.9746 - specificity: 0.9877 - acc: 0.9754 - val_loss: 0.0856 - val_sensitivity: 0.9783 - val_specificity: 0.9892 - val_acc: 0.9783\n",
      "Epoch 14/40\n",
      "2400/2400 [==============================] - 551s - loss: 0.0682 - sensitivity: 0.9758 - specificity: 0.9879 - acc: 0.9758 - val_loss: 0.1140 - val_sensitivity: 0.9767 - val_specificity: 0.9883 - val_acc: 0.9767\n",
      "Epoch 15/40\n",
      "2400/2400 [==============================] - 551s - loss: 0.0973 - sensitivity: 0.9675 - specificity: 0.9838 - acc: 0.9675 - val_loss: 0.0713 - val_sensitivity: 0.9833 - val_specificity: 0.9917 - val_acc: 0.9833\n",
      "Epoch 16/40\n",
      "2400/2400 [==============================] - 549s - loss: 0.0459 - sensitivity: 0.9829 - specificity: 0.9917 - acc: 0.9833 - val_loss: 0.0643 - val_sensitivity: 0.9850 - val_specificity: 0.9925 - val_acc: 0.9850\n",
      "Epoch 17/40\n",
      "2400/2400 [==============================] - 547s - loss: 0.3520 - sensitivity: 0.8812 - specificity: 0.9406 - acc: 0.8812 - val_loss: 0.1373 - val_sensitivity: 0.9633 - val_specificity: 0.9817 - val_acc: 0.9633\n",
      "Epoch 18/40\n",
      "2400/2400 [==============================] - 548s - loss: 0.1095 - sensitivity: 0.9696 - specificity: 0.9848 - acc: 0.9696 - val_loss: 0.0711 - val_sensitivity: 0.9867 - val_specificity: 0.9942 - val_acc: 0.9867\n",
      "Epoch 19/40\n",
      "2400/2400 [==============================] - 546s - loss: 0.0699 - sensitivity: 0.9800 - specificity: 0.9900 - acc: 0.9800 - val_loss: 0.0442 - val_sensitivity: 0.9917 - val_specificity: 0.9958 - val_acc: 0.9917\n",
      "Epoch 20/40\n",
      "2400/2400 [==============================] - 549s - loss: 0.0508 - sensitivity: 0.9862 - specificity: 0.9933 - acc: 0.9867 - val_loss: 0.0330 - val_sensitivity: 0.9933 - val_specificity: 0.9967 - val_acc: 0.9933\n",
      "Epoch 21/40\n",
      "2400/2400 [==============================] - 552s - loss: 0.0478 - sensitivity: 0.9854 - specificity: 0.9927 - acc: 0.9854 - val_loss: 0.0267 - val_sensitivity: 0.9950 - val_specificity: 0.9975 - val_acc: 0.9950\n",
      "Epoch 22/40\n",
      "2400/2400 [==============================] - 550s - loss: 0.0401 - sensitivity: 0.9879 - specificity: 0.9942 - acc: 0.9883 - val_loss: 0.0262 - val_sensitivity: 0.9933 - val_specificity: 0.9975 - val_acc: 0.9950\n",
      "Epoch 23/40\n",
      "2400/2400 [==============================] - 542s - loss: 0.0356 - sensitivity: 0.9879 - specificity: 0.9940 - acc: 0.9879 - val_loss: 0.0208 - val_sensitivity: 0.9967 - val_specificity: 0.9983 - val_acc: 0.9967\n",
      "Epoch 24/40\n",
      "2400/2400 [==============================] - 553s - loss: 0.0301 - sensitivity: 0.9896 - specificity: 0.9950 - acc: 0.9900 - val_loss: 0.0229 - val_sensitivity: 0.9917 - val_specificity: 0.9958 - val_acc: 0.9917\n",
      "Epoch 25/40\n",
      "2400/2400 [==============================] - 550s - loss: 0.0253 - sensitivity: 0.9917 - specificity: 0.9958 - acc: 0.9917 - val_loss: 0.0354 - val_sensitivity: 0.9850 - val_specificity: 0.9933 - val_acc: 0.9850\n",
      "Epoch 26/40\n",
      "2400/2400 [==============================] - 551s - loss: 0.0282 - sensitivity: 0.9900 - specificity: 0.9950 - acc: 0.9900 - val_loss: 0.0187 - val_sensitivity: 0.9967 - val_specificity: 0.9992 - val_acc: 0.9967\n",
      "Epoch 27/40\n",
      "2400/2400 [==============================] - 549s - loss: 0.0214 - sensitivity: 0.9938 - specificity: 0.9969 - acc: 0.9938 - val_loss: 0.0186 - val_sensitivity: 0.9950 - val_specificity: 0.9975 - val_acc: 0.9950\n",
      "Epoch 28/40\n",
      "2400/2400 [==============================] - 547s - loss: 0.0178 - sensitivity: 0.9938 - specificity: 0.9971 - acc: 0.9942 - val_loss: 0.0144 - val_sensitivity: 0.9950 - val_specificity: 0.9975 - val_acc: 0.9950\n",
      "Epoch 29/40\n",
      "2400/2400 [==============================] - 551s - loss: 0.0143 - sensitivity: 0.9946 - specificity: 0.9973 - acc: 0.9946 - val_loss: 0.0123 - val_sensitivity: 0.9983 - val_specificity: 0.9992 - val_acc: 0.9983\n",
      "Epoch 30/40\n",
      "2400/2400 [==============================] - 551s - loss: 0.0177 - sensitivity: 0.9950 - specificity: 0.9975 - acc: 0.9950 - val_loss: 0.0110 - val_sensitivity: 0.9967 - val_specificity: 0.9983 - val_acc: 0.9967\n",
      "Epoch 31/40\n",
      "2400/2400 [==============================] - 552s - loss: 0.0165 - sensitivity: 0.9933 - specificity: 0.9967 - acc: 0.9933 - val_loss: 0.0130 - val_sensitivity: 1.0000 - val_specificity: 1.0000 - val_acc: 1.0000\n",
      "Epoch 32/40\n",
      "2400/2400 [==============================] - 549s - loss: 0.0183 - sensitivity: 0.9946 - specificity: 0.9973 - acc: 0.9946 - val_loss: 0.0128 - val_sensitivity: 0.9967 - val_specificity: 0.9983 - val_acc: 0.9967\n",
      "Epoch 33/40\n"
     ]
    },
    {
     "name": "stdout",
     "output_type": "stream",
     "text": [
      "2400/2400 [==============================] - 551s - loss: 0.0204 - sensitivity: 0.9950 - specificity: 0.9975 - acc: 0.9950 - val_loss: 0.0117 - val_sensitivity: 0.9983 - val_specificity: 0.9992 - val_acc: 0.9983\n",
      "Epoch 34/40\n",
      "2400/2400 [==============================] - 549s - loss: 0.0105 - sensitivity: 0.9975 - specificity: 0.9988 - acc: 0.9975 - val_loss: 0.0072 - val_sensitivity: 1.0000 - val_specificity: 1.0000 - val_acc: 1.0000\n",
      "Epoch 35/40\n",
      "2400/2400 [==============================] - 551s - loss: 0.0091 - sensitivity: 0.9979 - specificity: 0.9990 - acc: 0.9979 - val_loss: 0.0089 - val_sensitivity: 1.0000 - val_specificity: 1.0000 - val_acc: 1.0000\n",
      "Epoch 36/40\n",
      "2400/2400 [==============================] - 547s - loss: 0.0103 - sensitivity: 0.9975 - specificity: 0.9988 - acc: 0.9975 - val_loss: 0.0259 - val_sensitivity: 0.9867 - val_specificity: 0.9933 - val_acc: 0.9867\n",
      "Epoch 37/40\n",
      "2400/2400 [==============================] - 546s - loss: 0.0178 - sensitivity: 0.9942 - specificity: 0.9971 - acc: 0.9942 - val_loss: 0.0085 - val_sensitivity: 0.9983 - val_specificity: 0.9992 - val_acc: 0.9983\n",
      "Epoch 38/40\n",
      "2400/2400 [==============================] - 549s - loss: 0.0209 - sensitivity: 0.9925 - specificity: 0.9963 - acc: 0.9925 - val_loss: 0.0130 - val_sensitivity: 0.9950 - val_specificity: 0.9975 - val_acc: 0.9950\n",
      "Epoch 39/40\n",
      "2400/2400 [==============================] - 549s - loss: 0.0129 - sensitivity: 0.9950 - specificity: 0.9975 - acc: 0.9950 - val_loss: 0.0060 - val_sensitivity: 1.0000 - val_specificity: 1.0000 - val_acc: 1.0000\n",
      "Epoch 40/40\n",
      "2400/2400 [==============================] - 498s - loss: 0.0129 - sensitivity: 0.9954 - specificity: 0.9977 - acc: 0.9954 - val_loss: 0.0061 - val_sensitivity: 0.9983 - val_specificity: 0.9992 - val_acc: 0.9983\n"
     ]
    }
   ],
   "source": [
    "# create the model\n",
    "model = Sequential()\n",
    "# model.add(LSTM(100, input_shape= (4096, 1)))\n",
    "# model.add(LSTM(100, input_shape= (64, 64)))\n",
    "# model.add(Dropout(0.1, input_shape= (timesteps, data_dim)))\n",
    "# model.add(LSTM(100, return_sequences = True))\n",
    "\n",
    "model.add(LSTM(100, input_shape= (timesteps, data_dim), return_sequences = True))\n",
    "# model.add(Dropout(0.1))\n",
    "model.add(TimeDistributed(Dense(50)))\n",
    "# model.add(GlobalMaxPooling1D())\n",
    "model.add(GlobalAveragePooling1D())\n",
    "# model.add(Flatten())\n",
    "model.add(Dense(3, activation='softmax'))\n",
    "model.compile(loss='categorical_crossentropy', optimizer='adam', metrics=[sensitivity, specificity, 'accuracy'])\n",
    "print(model.summary())\n",
    "history = model.fit(X_train, y_train, validation_data=(X_test, y_test), batch_size=64, epochs=40)"
   ]
  },
  {
   "cell_type": "code",
   "execution_count": 11,
   "metadata": {},
   "outputs": [
    {
     "data": {
      "image/png": "[encoded data removed]",
      "text/plain": [
       "<matplotlib.figure.Figure at 0x7f50dc43d5f8>"
      ]
     },
     "metadata": {},
     "output_type": "display_data"
    }
   ],
   "source": [
    "# Plot the sensitivity along with epochs\n",
    "plt.plot(history.history['sensitivity'], 'g--')\n",
    "plt.title('Model Sensitivity')\n",
    "plt.ylabel('Sensitivity')\n",
    "plt.xlabel('Epoch #')\n",
    "plt.show()"
   ]
  },
  {
   "cell_type": "code",
   "execution_count": 12,
   "metadata": {},
   "outputs": [
    {
     "data": {
      "image/png": "[encoded data removed]",
      "text/plain": [
       "<matplotlib.figure.Figure at 0x7f50dc43dd30>"
      ]
     },
     "metadata": {},
     "output_type": "display_data"
    }
   ],
   "source": [
    "# Plot the specificity along with epochs\n",
    "plt.plot(history.history['specificity'], 'b--')\n",
    "plt.title('Model Specificity')\n",
    "plt.ylabel('Specificity')\n",
    "plt.xlabel('Epoch #')\n",
    "plt.show()"
   ]
  },
  {
   "cell_type": "code",
   "execution_count": 13,
   "metadata": {},
   "outputs": [
    {
     "data": {
      "image/png": "[encoded data removed]",
      "text/plain": [
       "<matplotlib.figure.Figure at 0x7f50d43aea20>"
      ]
     },
     "metadata": {},
     "output_type": "display_data"
    }
   ],
   "source": [
    "# Plot the classification accuracy along with epochs\n",
    "plt.plot(history.history['acc'], 'r--')\n",
    "plt.title('Model Accuracy')\n",
    "plt.ylabel('Accuracy')\n",
    "plt.xlabel('Epoch #')\n",
    "plt.show()"
   ]
  },
  {
   "cell_type": "code",
   "execution_count": 14,
   "metadata": {},
   "outputs": [
    {
     "name": "stdout",
     "output_type": "stream",
     "text": [
      "Sensitivity = 99.83%\n",
      "Specificity = 99.92%\n",
      "Classification Accuracy = 99.83%\n"
     ]
    }
   ],
   "source": [
    "# evaluate the classification accuracy\n",
    "scores = model.evaluate(X_test, y_test, verbose=0)\n",
    "print(\"Sensitivity = %.2f%%\" % (scores[1]*100))\n",
    "print(\"Specificity = %.2f%%\" % (scores[2]*100))\n",
    "print(\"Classification Accuracy = %.2f%%\" % (scores[3]*100))"
   ]
  },
  {
   "cell_type": "code",
   "execution_count": null,
   "metadata": {
    "collapsed": true
   },
   "outputs": [],
   "source": []
  }
 ],
 "metadata": {
  "kernelspec": {
   "display_name": "Python 3",
   "language": "python",
   "name": "python3"
  },
  "language_info": {
   "codemirror_mode": {
    "name": "ipython",
    "version": 3
   },
   "file_extension": ".py",
   "mimetype": "text/x-python",
   "name": "python",
   "nbconvert_exporter": "python",
   "pygments_lexer": "ipython3",
   "version": "3.6.1"
  }
 },
 "nbformat": 4,
 "nbformat_minor": 2
}
